{
  "nbformat": 4,
  "nbformat_minor": 0,
  "metadata": {
    "colab": {
      "name": "ALL_Deep_Learning.ipynb",
      "provenance": [],
      "include_colab_link": true
    },
    "kernelspec": {
      "display_name": "Python 3",
      "name": "python3"
    },
    "accelerator": "TPU",
    "gpuClass": "standard"
  },
  "cells": [
    {
      "cell_type": "markdown",
      "metadata": {
        "id": "view-in-github",
        "colab_type": "text"
      },
      "source": [
        "<a href=\"https://colab.research.google.com/github/Anonymous1846/Blood-cancer-subtype-classification-using-DCNN/blob/master/DCNN%20Cancer%20Classifier.ipynb\" target=\"_parent\"><img src=\"https://colab.research.google.com/assets/colab-badge.svg\" alt=\"Open In Colab\"/></a>"
      ]
    },
    {
      "cell_type": "markdown",
      "metadata": {
        "id": "bz8z3s6bmZ-L"
      },
      "source": [
        "# **Importing All The Necessary Dependancies.**"
      ]
    },
    {
      "cell_type": "code",
      "metadata": {
        "colab": {
          "base_uri": "https://localhost:8080/"
        },
        "id": "A7XLGtoAl0zO",
        "outputId": "a8400c5d-fc30-4f58-ec16-ae09a0e756ce"
      },
      "source": [
        "'''\n",
        "Importing all the necessary dependencies for the Binary Classification model !\n",
        "In the end we have verified the keras installtion, by printing out the keras version.\n",
        "\n",
        "keras/tensorflow - for developing and training the DL(CNN) model !\n",
        "os,random - for selection of the images from the directory !\n",
        "Each Model is stored in its respective directory along with its history file !\n",
        "\n",
        "Problem Statement: To classifiy blood cancer subtypes using Deep Convolutional Nueral Networks !\n",
        "\n",
        "'''\n",
        "from keras.layers import MaxPooling2D,Conv2D,Dropout,Dense,Flatten,BatchNormalization,MaxPool2D,AveragePooling2D,GlobalAveragePooling2D #layers\n",
        "from keras.applications.imagenet_utils import decode_predictions  \n",
        "from keras.callbacks import ModelCheckpoint,EarlyStopping \n",
        "from keras.preprocessing.image import ImageDataGenerator\n",
        "from tensorflow.keras.optimizers import RMSprop,Adam                              # for checkpoint calculation and callback          \n",
        "from keras.preprocessing import image\n",
        "from keras.models import Sequential\n",
        "\n",
        "#importing the pre-trained models \n",
        "from tensorflow.keras.applications import EfficientNetB0 \n",
        "from keras.applications.resnet import ResNet50      \n",
        "from keras.applications import InceptionV3 \n",
        "\n",
        "from sklearn.metrics import roc_auc_score    \n",
        "from sklearn.metrics import roc_curve    \n",
        "from sklearn.metrics import auc \n",
        "from sklearn.metrics import confusion_matrix \n",
        "from sklearn.metrics import classification_report \n",
        "\n",
        "import matplotlib.pyplot as plt                                                   # for plotting \n",
        "import tensorflow as tf\n",
        "from cv2 import imread\n",
        "import numpy as np\n",
        "import pickle                                                                     #for pickling the history dictionary !\n",
        "import keras\n",
        "import os \n",
        "\n",
        "# reading the image via  a path \n",
        "#causes an error if the keras installtion didn't went well !\n",
        "print(keras.__version__)"
      ],
      "execution_count": 1,
      "outputs": [
        {
          "output_type": "stream",
          "name": "stdout",
          "text": [
            "2.9.0\n"
          ]
        }
      ]
    },
    {
      "cell_type": "markdown",
      "metadata": {
        "id": "Q_JFZFFZFzII"
      },
      "source": [
        "# **Loading The Dataset From Google Drive.**"
      ]
    },
    {
      "cell_type": "code",
      "metadata": {
        "colab": {
          "base_uri": "https://localhost:8080/"
        },
        "id": "fm-5FTeSxHP4",
        "outputId": "fa98bd33-0402-49a3-c5b3-49e90de73986"
      },
      "source": [
        "'''\n",
        "This is an optional block of code which can be executed if the \n",
        "google drive needs to be mounted on different account\n",
        "'''\n",
        "\n",
        "from google.colab import drive\n",
        "drive.mount('/content/drive',force_remount=False)"
      ],
      "execution_count": 2,
      "outputs": [
        {
          "output_type": "stream",
          "name": "stdout",
          "text": [
            "Mounted at /content/drive\n"
          ]
        }
      ]
    },
    {
      "cell_type": "markdown",
      "metadata": {
        "id": "1hHkfosbhCO-"
      },
      "source": [
        "#**The Path To Training, Validation and Testing Datasets**"
      ]
    },
    {
      "cell_type": "code",
      "metadata": {
        "colab": {
          "base_uri": "https://localhost:8080/"
        },
        "id": "ZNvpvCN5TJqy",
        "outputId": "28246354-c4ce-4bdb-e207-9e0c35b9f879"
      },
      "source": [
        "'''\n",
        "The Images required for the training, validation, and testing is found in the /Architecture Datasets directory !\n",
        "Architecture Datasets \n",
        "|\n",
        "|\n",
        "|\n",
        " ---- Training(80 %)\n",
        "      |\n",
        "      |\n",
        "      ----Normal \n",
        "      |\n",
        "      ----ALL\n",
        "      |\n",
        "      ----AML\n",
        "      |\n",
        "      ----CLL\n",
        "      |\n",
        "       ----CML\n",
        "|\n",
        "|\n",
        "---- Validation (10 %)\n",
        "      |\n",
        "      |\n",
        "      ----Normal \n",
        "      |\n",
        "      ----ALL\n",
        "      |\n",
        "      ----AML\n",
        "      |\n",
        "      ----CLL\n",
        "      |\n",
        "       ----CML\n",
        "|\n",
        "|\n",
        "---- Testing (10 %)\n",
        "      |\n",
        "      |\n",
        "      ----Normal \n",
        "      |\n",
        "      ----ALL\n",
        "      |\n",
        "      ----AML\n",
        "      |\n",
        "      ----CLL\n",
        "      |\n",
        "       ----CML\n",
        "\n",
        "      The images/dataset is divided into 80% training, 10% testing and 10% validation\n",
        "'''\n",
        "training_data_path    = \"/content/drive/MyDrive/DCNN Datasets/Training\"\n",
        "validation_data_path  = \"/content/drive/MyDrive/DCNN Datasets/Validation\"\n",
        "testing_data_path     = \"/content/drive/MyDrive/DCNN Datasets/Testing\"\n",
        "\n",
        "print(f'The Training Images Path   :  {training_data_path}')\n",
        "print(f'The Validation Images Path :  {validation_data_path}')\n",
        "print(f'The Testing Images Path    :  {testing_data_path}')\n"
      ],
      "execution_count": 3,
      "outputs": [
        {
          "output_type": "stream",
          "name": "stdout",
          "text": [
            "The Training Images Path   :  /content/drive/MyDrive/DCNN Datasets/Training\n",
            "The Validation Images Path :  /content/drive/MyDrive/DCNN Datasets/Validation\n",
            "The Testing Images Path    :  /content/drive/MyDrive/DCNN Datasets/Testing\n"
          ]
        }
      ]
    },
    {
      "cell_type": "code",
      "source": [
        "CATEGORIES = 5 #indicating normal, ALL, AML, CLL, CML."
      ],
      "metadata": {
        "id": "6crVs2N2O42e"
      },
      "execution_count": 4,
      "outputs": []
    },
    {
      "cell_type": "markdown",
      "metadata": {
        "id": "9yT7JaUnVPpU"
      },
      "source": [
        "# **Image Preprocessing for Custom and AlexNet models**"
      ]
    },
    {
      "cell_type": "code",
      "metadata": {
        "id": "qPeiTL-oVTay"
      },
      "source": [
        "'''\n",
        "ALL-IDB1 and ALL IDB2 both contains roughly 334 images, but after spiltting of the images,\n",
        "the size becomes significantly low, and this leads significant amount of overfitting.\n",
        "So, inorder to solve the problem of overfitting, we have to apply data augmentation \n",
        "to increase the number of images, from the previous existing images !\n",
        "\n",
        "Note: This block of code should only be executed if and only if the model used is AlexNet or Custom !\n",
        "'''\n",
        "\n",
        "training_images_preprocessed = ImageDataGenerator(rescale=1./255,\n",
        "                                                  rotation_range=40,\n",
        "                                                  width_shift_range=0.2,\n",
        "                                                  height_shift_range=0.2,\n",
        "                                                  shear_range=0.2,\n",
        "                                                  zoom_range=0.2,\n",
        "                                                  horizontal_flip=True,\n",
        "                                                  vertical_flip=True,\n",
        "                                                  fill_mode='nearest')\n",
        "\n",
        "validate_images_preprocessed = ImageDataGenerator(rescale=1./255)"
      ],
      "execution_count": 5,
      "outputs": []
    },
    {
      "cell_type": "markdown",
      "metadata": {
        "id": "cVD91RrJ36PC"
      },
      "source": [
        "# **Image Pre-Processing For ResNet50**"
      ]
    },
    {
      "cell_type": "code",
      "metadata": {
        "id": "DdO5HIKZ35wM"
      },
      "source": [
        "'''\n",
        "Important Note : If you're running the custom model please run the above function only.\n",
        "This block is only applicable to Transfer Learning  ResNet50 !\n",
        "'''\n",
        "from keras.applications.resnet import preprocess_input\n",
        "training_images_preprocessed=ImageDataGenerator(preprocessing_function=preprocess_input)\n",
        "\n",
        "validate_images_preprocessed = ImageDataGenerator(preprocessing_function=preprocess_input)"
      ],
      "execution_count": 6,
      "outputs": []
    },
    {
      "cell_type": "code",
      "metadata": {
        "id": "3DCGcbxQ09wm"
      },
      "source": [
        "#the below dict is for the image diemension info only and is used for applying the augemntaion to other datasets !\n",
        "\n",
        "model_dict = {'AlexNet':(227,227),'Test':(300,300),'ResNet':(224,224)}\n",
        "architecture ='ResNet'             # actual flag for the image diemensions !"
      ],
      "execution_count": 7,
      "outputs": []
    },
    {
      "cell_type": "markdown",
      "metadata": {
        "id": "xGPm_71JXPeC"
      },
      "source": [
        "# **Applying the Image Augmentation to Datasets !**"
      ]
    },
    {
      "cell_type": "code",
      "metadata": {
        "colab": {
          "base_uri": "https://localhost:8080/"
        },
        "id": "G9G6VPiSXVsR",
        "outputId": "3b7a905f-9816-46e4-fff4-5bd14a88b579"
      },
      "source": [
        "'''\n",
        "The function augments the data, according to the processing mode.\n",
        "The processing mode has defined earlier seperately for training and validation set !\n",
        "\n",
        "params: training/validation directory,the processing mode(different for training and validation dataset), and flag for model !\n",
        "\n",
        "return: augmented data \n",
        "'''\n",
        "\n",
        "def apply_augmentation(data_directory,processing_mode,flag):\n",
        "  \n",
        "  data_gen = processing_mode.flow_from_directory(\n",
        "  data_directory,                               # the directory as provided to the function as an arguement !\n",
        "  target_size = model_dict[flag],               # 300x 300 pixels for custom,224 for VGG, and 227 for AlexNet \n",
        "  batch_size = 128,                             # Number of Images Excepted at Iteration !\n",
        "  class_mode='categorical')\n",
        "  print(f'Image Shape : {model_dict[flag]}')\n",
        "  return data_gen\n",
        "\n",
        "\n",
        "training_images_datagen = apply_augmentation(training_data_path,            #path to training dir\n",
        "                                             training_images_preprocessed,  #mode of processing\n",
        "                                             architecture)                  #architecture\n",
        "\n",
        "valid_images_datagen = apply_augmentation(validation_data_path,             #validation dir\n",
        "                                          validate_images_preprocessed,\n",
        "                                          architecture)\n",
        "\n",
        "test_images_datagen = apply_augmentation(testing_data_path,                 #testing dir !\n",
        "                                         validate_images_preprocessed,\n",
        "                                         architecture)\n",
        "\n",
        "print(training_images_datagen.class_indices) # class indices refer to the numerical equivalent whether they are cancerours or not !\n"
      ],
      "execution_count": 8,
      "outputs": [
        {
          "output_type": "stream",
          "name": "stdout",
          "text": [
            "Found 341 images belonging to 5 classes.\n",
            "Image Shape : (224, 224)\n",
            "Found 52 images belonging to 5 classes.\n",
            "Image Shape : (224, 224)\n",
            "Found 51 images belonging to 5 classes.\n",
            "Image Shape : (224, 224)\n",
            "{'ALL': 0, 'AML': 1, 'CLL': 2, 'CML': 3, 'Normal': 4}\n"
          ]
        }
      ]
    },
    {
      "cell_type": "markdown",
      "metadata": {
        "id": "lbC-FfxiDtCO"
      },
      "source": [
        "#**Using the mean pixel we have calculated the number of features !**"
      ]
    },
    {
      "cell_type": "code",
      "metadata": {
        "id": "wtkmIsQNDssN",
        "colab": {
          "base_uri": "https://localhost:8080/"
        },
        "outputId": "1fdf0cae-2867-4c2a-8808-6b30e3aa7b30"
      },
      "source": [
        "sample_image0=imread('/content/drive/MyDrive/DCNN Datasets/Training/CLL/61676-CLL cells with cytoplasmic vacuoles.Jpeg')\n",
        "print(\"The diemensions of the cancer cell: {}\".format(sample_image0.shape))\n",
        "feature_matrix0 = np.zeros((sample_image0.shape[0], sample_image0.shape[1])) # for cancer cell\n",
        "\n",
        "'''\n",
        "The function will calculate the mean pixels values which are essential in understanding the number of possible \n",
        "values/ features in the image !\n",
        "\n",
        "params: fetaure matrix and image\n",
        "\n",
        "return: None\n",
        "'''\n",
        "def show_features(feature_matrix,img):\n",
        "  for i in range(1,img.shape[0]):\n",
        "    for j in range(1,img.shape[1]):\n",
        "        feature_matrix[i][j] = ((int(img[i,j,0]) + int(img[i,j,1]) + int(img[i,j,2]))/3) # mean for three channels !\n",
        "\n",
        "  features = np.reshape(feature_matrix, (img.shape[0]*img.shape[1])) \n",
        "  print(\"The mean pixels values for the cancer cells: {}\".format(features.shape[0]))\n",
        "\n",
        "show_features(feature_matrix0,sample_image0) # for cancer cell \n"
      ],
      "execution_count": null,
      "outputs": [
        {
          "output_type": "stream",
          "name": "stdout",
          "text": [
            "The diemensions of the cancer cell: (784, 1000, 3)\n",
            "The mean pixels values for the cancer cells: 784000\n"
          ]
        }
      ]
    },
    {
      "cell_type": "markdown",
      "metadata": {
        "id": "psRQ77sbYuqN"
      },
      "source": [
        "# **Representation of Images.**"
      ]
    },
    {
      "cell_type": "code",
      "metadata": {
        "colab": {
          "base_uri": "https://localhost:8080/",
          "height": 312
        },
        "id": "W3oV8CEwY6p8",
        "outputId": "fe4acd75-7b4d-4e4c-df8b-c80621db2f2b"
      },
      "source": [
        "'''\n",
        "The function is used to plot the augmented figures of the images, for visual demonstartion !\n",
        "\n",
        "params: image object\n",
        "return: None\n",
        "'''\n",
        "def plot(image):\n",
        "  fig,axes=plt.subplots(1,5,figsize=(20,20))# 20 x 20 images \n",
        "  axes=axes.flatten()\n",
        "  for imag,axis in zip(image,axes):\n",
        "    #the zip function takes two params(iteratables and combines then to form a list of tuples !)\n",
        "    axis.imshow(imag)\n",
        "  plt.tight_layout()\n",
        "  plt.show()\n",
        "\n",
        "training_images_datagen.class_indices\n",
        "sample_images=[training_images_datagen[0][0][0] for i in range(5)]\n",
        "plot(sample_images)"
      ],
      "execution_count": null,
      "outputs": [
        {
          "output_type": "stream",
          "name": "stderr",
          "text": [
            "WARNING:matplotlib.image:Clipping input data to the valid range for imshow with RGB data ([0..1] for floats or [0..255] for integers).\n",
            "WARNING:matplotlib.image:Clipping input data to the valid range for imshow with RGB data ([0..1] for floats or [0..255] for integers).\n",
            "WARNING:matplotlib.image:Clipping input data to the valid range for imshow with RGB data ([0..1] for floats or [0..255] for integers).\n",
            "WARNING:matplotlib.image:Clipping input data to the valid range for imshow with RGB data ([0..1] for floats or [0..255] for integers).\n",
            "WARNING:matplotlib.image:Clipping input data to the valid range for imshow with RGB data ([0..1] for floats or [0..255] for integers).\n"
          ]
        },
        {
          "output_type": "display_data",
          "data": {
            "text/plain": [
              "<Figure size 1440x1440 with 5 Axes>"
            ],
            "image/png": "[encoded data removed]"
          },
          "metadata": {
            "needs_background": "light"
          }
        }
      ]
    },
    {
      "cell_type": "markdown",
      "metadata": {
        "id": "6ExfBhm4YE0f"
      },
      "source": [
        "# **Multiclass Test Classifier !**"
      ]
    },
    {
      "cell_type": "code",
      "metadata": {
        "id": "66QFUFr1YNlW",
        "outputId": "e66058d8-432a-4b2e-deca-75ad8d23c138",
        "colab": {
          "base_uri": "https://localhost:8080/"
        }
      },
      "source": [
        "'''\n",
        "The CNN model is used to predict whether the given data image is cancerous or not,\n",
        "it contains 5 convolution and corresponding number of maxpooling layers.\n",
        "RelU function is added to each layer so that it can introduce non-linearity and \n",
        "avoid the negative values !\n",
        "'''\n",
        "test_model  =              Sequential([\n",
        "                                    Conv2D(16, (3,3), activation='relu', input_shape=(300, 300, 3)), # relu function is used to negate the negative values from the models, replace them with zeros !\n",
        "                                    MaxPooling2D(2, 2),\n",
        "                                    Conv2D(32, (3,3), activation='relu'),# The second convolution\n",
        "                                    MaxPooling2D(2,2),                                    \n",
        "                                    Conv2D(64, (3,3), activation='relu'),# The third convolution\n",
        "                                    MaxPooling2D(2,2),                                   \n",
        "                                    Conv2D(64, (3,3), activation='relu'), # The fourth convolution\n",
        "                                    MaxPooling2D(2,2),                                   \n",
        "                                    Conv2D(64, (3,3), activation='relu'), # The fifth convolution\n",
        "                                    MaxPooling2D(2,2),                                   \n",
        "                                    Flatten(),                            # Flatten the  results to feed into a DNN                                    \n",
        "                                    Dense(512, activation='relu'),        # 512 neuron hidden layer\n",
        "                                    # Only 1 output neuron. It will contain a value from 0-1 where 0 for 1 class ('normal') and 0 for the other 'cancer'\n",
        "                                    Dense(CATEGORIES, activation='softmax') # the output will be the range of -1 and 1(graph will be S shaped !)\n",
        "                                  ])\n",
        "\n",
        "test_model.summary()"
      ],
      "execution_count": null,
      "outputs": [
        {
          "output_type": "stream",
          "name": "stdout",
          "text": [
            "Model: \"sequential\"\n",
            "_________________________________________________________________\n",
            " Layer (type)                Output Shape              Param #   \n",
            "=================================================================\n",
            " conv2d (Conv2D)             (None, 298, 298, 16)      448       \n",
            "                                                                 \n",
            " max_pooling2d (MaxPooling2D  (None, 149, 149, 16)     0         \n",
            " )                                                               \n",
            "                                                                 \n",
            " conv2d_1 (Conv2D)           (None, 147, 147, 32)      4640      \n",
            "                                                                 \n",
            " max_pooling2d_1 (MaxPooling  (None, 73, 73, 32)       0         \n",
            " 2D)                                                             \n",
            "                                                                 \n",
            " conv2d_2 (Conv2D)           (None, 71, 71, 64)        18496     \n",
            "                                                                 \n",
            " max_pooling2d_2 (MaxPooling  (None, 35, 35, 64)       0         \n",
            " 2D)                                                             \n",
            "                                                                 \n",
            " conv2d_3 (Conv2D)           (None, 33, 33, 64)        36928     \n",
            "                                                                 \n",
            " max_pooling2d_3 (MaxPooling  (None, 16, 16, 64)       0         \n",
            " 2D)                                                             \n",
            "                                                                 \n",
            " conv2d_4 (Conv2D)           (None, 14, 14, 64)        36928     \n",
            "                                                                 \n",
            " max_pooling2d_4 (MaxPooling  (None, 7, 7, 64)         0         \n",
            " 2D)                                                             \n",
            "                                                                 \n",
            " flatten (Flatten)           (None, 3136)              0         \n",
            "                                                                 \n",
            " dense (Dense)               (None, 512)               1606144   \n",
            "                                                                 \n",
            " dense_1 (Dense)             (None, 5)                 2565      \n",
            "                                                                 \n",
            "=================================================================\n",
            "Total params: 1,706,149\n",
            "Trainable params: 1,706,149\n",
            "Non-trainable params: 0\n",
            "_________________________________________________________________\n"
          ]
        }
      ]
    },
    {
      "cell_type": "markdown",
      "metadata": {
        "id": "sD7ModzzAYbr"
      },
      "source": [
        "# **Multiclass Classifier Based On AlexNet**"
      ]
    },
    {
      "cell_type": "code",
      "metadata": {
        "id": "s6K8U_fjAYGC",
        "outputId": "b6c4ece0-8d0b-4050-d1e3-384b7acfa1c3",
        "colab": {
          "base_uri": "https://localhost:8080/"
        }
      },
      "source": [
        "'''\n",
        "Implementation of the AlexNet architecture, which is an common architecture of the CNN model\n",
        "The AlexNet Alrchitecture has been modified since, the original one is capable of classifiying\n",
        "upto 1000 tensors, and requires more computational power !\n",
        "'''\n",
        "alexnet_model =Sequential([\n",
        "                    Conv2D(96, (11, 11), strides=(4,4), activation='relu', input_shape=(227, 227, 3)),\n",
        "                    BatchNormalization(),\n",
        "                    MaxPooling2D((3, 3),strides=(2,2)),\n",
        "                    Conv2D(256, (5, 5),padding='same', activation='relu'),                    \n",
        "                    MaxPooling2D((3, 3),strides=(2, 2)),\n",
        "                    Conv2D(384, (3, 3), padding='same',activation='relu'),\n",
        "                    Conv2D(384, (3, 3), padding='same',activation='relu'),\n",
        "                    Conv2D(256, (3, 3), padding='same',activation='relu'),\n",
        "                    MaxPooling2D((3, 3),strides=(2, 2)),\n",
        "                    Flatten(),\n",
        "                    Dense(4096, activation='relu'),# two sense layers with 4096 nuerons each                 \n",
        "                    Dropout(0.5),\n",
        "                    Dense(4096, activation='relu'),                \n",
        "                    Dropout(0.5),\n",
        "                    Dense(CATEGORIES, activation='softmax')# sigmoid used to binary other wise softmax will be used for probabilitic classification!\n",
        "                                                  #Padding calculation = input_size + 2 * padding_size-(filter_size-1)\n",
        "])\n",
        "print(alexnet_model.summary())"
      ],
      "execution_count": null,
      "outputs": [
        {
          "output_type": "stream",
          "name": "stdout",
          "text": [
            "Model: \"sequential_1\"\n",
            "_________________________________________________________________\n",
            " Layer (type)                Output Shape              Param #   \n",
            "=================================================================\n",
            " conv2d_5 (Conv2D)           (None, 55, 55, 96)        34944     \n",
            "                                                                 \n",
            " batch_normalization (BatchN  (None, 55, 55, 96)       384       \n",
            " ormalization)                                                   \n",
            "                                                                 \n",
            " max_pooling2d_5 (MaxPooling  (None, 27, 27, 96)       0         \n",
            " 2D)                                                             \n",
            "                                                                 \n",
            " conv2d_6 (Conv2D)           (None, 27, 27, 256)       614656    \n",
            "                                                                 \n",
            " max_pooling2d_6 (MaxPooling  (None, 13, 13, 256)      0         \n",
            " 2D)                                                             \n",
            "                                                                 \n",
            " conv2d_7 (Conv2D)           (None, 13, 13, 384)       885120    \n",
            "                                                                 \n",
            " conv2d_8 (Conv2D)           (None, 13, 13, 384)       1327488   \n",
            "                                                                 \n",
            " conv2d_9 (Conv2D)           (None, 13, 13, 256)       884992    \n",
            "                                                                 \n",
            " max_pooling2d_7 (MaxPooling  (None, 6, 6, 256)        0         \n",
            " 2D)                                                             \n",
            "                                                                 \n",
            " flatten_1 (Flatten)         (None, 9216)              0         \n",
            "                                                                 \n",
            " dense_2 (Dense)             (None, 4096)              37752832  \n",
            "                                                                 \n",
            " dropout (Dropout)           (None, 4096)              0         \n",
            "                                                                 \n",
            " dense_3 (Dense)             (None, 4096)              16781312  \n",
            "                                                                 \n",
            " dropout_1 (Dropout)         (None, 4096)              0         \n",
            "                                                                 \n",
            " dense_4 (Dense)             (None, 5)                 20485     \n",
            "                                                                 \n",
            "=================================================================\n",
            "Total params: 58,302,213\n",
            "Trainable params: 58,302,021\n",
            "Non-trainable params: 192\n",
            "_________________________________________________________________\n",
            "None\n"
          ]
        }
      ]
    },
    {
      "cell_type": "markdown",
      "metadata": {
        "id": "9DgfCoeE4fa9"
      },
      "source": [
        "# **Multiclass Classifier Based On ResNet50**"
      ]
    },
    {
      "cell_type": "code",
      "metadata": {
        "id": "cT64MEEA4e3H",
        "outputId": "566cf149-a377-4e06-f7ed-c5f735c0993b",
        "colab": {
          "base_uri": "https://localhost:8080/"
        }
      },
      "source": [
        "'''\n",
        "The transfer learning mechanism applied to ResNet 50, which is a Residual network\n",
        "Last layers is set to trainable , from 165 onwards !\n",
        "'''\n",
        "\n",
        "resnet = ResNet50(\n",
        "    weights=\"imagenet\", \n",
        "    include_top=False,\n",
        "    input_shape=(224,224,3)\n",
        ")\n",
        "\n",
        "for layer in resnet.layers[:165]:\n",
        "   layer.trainable = False\n",
        "for layer in resnet.layers[165:]:\n",
        "   layer.trainable = True\n",
        "\n",
        "resnet_model = Sequential(\n",
        "                          [resnet,                         \n",
        "                          Flatten(),\n",
        "                          Dropout(0.5),\n",
        "                          Dense(256,activation='relu'),\n",
        "                          Dropout(0.5),\n",
        "                          Dense(CATEGORIES, activation='softmax')\n",
        "                          ])"
      ],
      "execution_count": 9,
      "outputs": [
        {
          "output_type": "stream",
          "name": "stdout",
          "text": [
            "Downloading data from https://storage.googleapis.com/tensorflow/keras-applications/resnet/resnet50_weights_tf_dim_ordering_tf_kernels_notop.h5\n",
            "94765736/94765736 [==============================] - 1s 0us/step\n"
          ]
        }
      ]
    },
    {
      "cell_type": "code",
      "metadata": {
        "id": "ceXoe2VAjb4G",
        "colab": {
          "base_uri": "https://localhost:8080/"
        },
        "outputId": "ebf3f402-296f-4ea4-d4f9-44bc91141c1f"
      },
      "source": [
        "resnet.summary()"
      ],
      "execution_count": null,
      "outputs": [
        {
          "output_type": "stream",
          "name": "stdout",
          "text": [
            "Model: \"resnet50\"\n",
            "__________________________________________________________________________________________________\n",
            " Layer (type)                   Output Shape         Param #     Connected to                     \n",
            "==================================================================================================\n",
            " input_1 (InputLayer)           [(None, 224, 224, 3  0           []                               \n",
            "                                )]                                                                \n",
            "                                                                                                  \n",
            " conv1_pad (ZeroPadding2D)      (None, 230, 230, 3)  0           ['input_1[0][0]']                \n",
            "                                                                                                  \n",
            " conv1_conv (Conv2D)            (None, 112, 112, 64  9472        ['conv1_pad[0][0]']              \n",
            "                                )                                                                 \n",
            "                                                                                                  \n",
            " conv1_bn (BatchNormalization)  (None, 112, 112, 64  256         ['conv1_conv[0][0]']             \n",
            "                                )                                                                 \n",
            "                                                                                                  \n",
            " conv1_relu (Activation)        (None, 112, 112, 64  0           ['conv1_bn[0][0]']               \n",
            "                                )                                                                 \n",
            "                                                                                                  \n",
            " pool1_pad (ZeroPadding2D)      (None, 114, 114, 64  0           ['conv1_relu[0][0]']             \n",
            "                                )                                                                 \n",
            "                                                                                                  \n",
            " pool1_pool (MaxPooling2D)      (None, 56, 56, 64)   0           ['pool1_pad[0][0]']              \n",
            "                                                                                                  \n",
            " conv2_block1_1_conv (Conv2D)   (None, 56, 56, 64)   4160        ['pool1_pool[0][0]']             \n",
            "                                                                                                  \n",
            " conv2_block1_1_bn (BatchNormal  (None, 56, 56, 64)  256         ['conv2_block1_1_conv[0][0]']    \n",
            " ization)                                                                                         \n",
            "                                                                                                  \n",
            " conv2_block1_1_relu (Activatio  (None, 56, 56, 64)  0           ['conv2_block1_1_bn[0][0]']      \n",
            " n)                                                                                               \n",
            "                                                                                                  \n",
            " conv2_block1_2_conv (Conv2D)   (None, 56, 56, 64)   36928       ['conv2_block1_1_relu[0][0]']    \n",
            "                                                                                                  \n",
            " conv2_block1_2_bn (BatchNormal  (None, 56, 56, 64)  256         ['conv2_block1_2_conv[0][0]']    \n",
            " ization)                                                                                         \n",
            "                                                                                                  \n",
            " conv2_block1_2_relu (Activatio  (None, 56, 56, 64)  0           ['conv2_block1_2_bn[0][0]']      \n",
            " n)                                                                                               \n",
            "                                                                                                  \n",
            " conv2_block1_0_conv (Conv2D)   (None, 56, 56, 256)  16640       ['pool1_pool[0][0]']             \n",
            "                                                                                                  \n",
            " conv2_block1_3_conv (Conv2D)   (None, 56, 56, 256)  16640       ['conv2_block1_2_relu[0][0]']    \n",
            "                                                                                                  \n",
            " conv2_block1_0_bn (BatchNormal  (None, 56, 56, 256)  1024       ['conv2_block1_0_conv[0][0]']    \n",
            " ization)                                                                                         \n",
            "                                                                                                  \n",
            " conv2_block1_3_bn (BatchNormal  (None, 56, 56, 256)  1024       ['conv2_block1_3_conv[0][0]']    \n",
            " ization)                                                                                         \n",
            "                                                                                                  \n",
            " conv2_block1_add (Add)         (None, 56, 56, 256)  0           ['conv2_block1_0_bn[0][0]',      \n",
            "                                                                  'conv2_block1_3_bn[0][0]']      \n",
            "                                                                                                  \n",
            " conv2_block1_out (Activation)  (None, 56, 56, 256)  0           ['conv2_block1_add[0][0]']       \n",
            "                                                                                                  \n",
            " conv2_block2_1_conv (Conv2D)   (None, 56, 56, 64)   16448       ['conv2_block1_out[0][0]']       \n",
            "                                                                                                  \n",
            " conv2_block2_1_bn (BatchNormal  (None, 56, 56, 64)  256         ['conv2_block2_1_conv[0][0]']    \n",
            " ization)                                                                                         \n",
            "                                                                                                  \n",
            " conv2_block2_1_relu (Activatio  (None, 56, 56, 64)  0           ['conv2_block2_1_bn[0][0]']      \n",
            " n)                                                                                               \n",
            "                                                                                                  \n",
            " conv2_block2_2_conv (Conv2D)   (None, 56, 56, 64)   36928       ['conv2_block2_1_relu[0][0]']    \n",
            "                                                                                                  \n",
            " conv2_block2_2_bn (BatchNormal  (None, 56, 56, 64)  256         ['conv2_block2_2_conv[0][0]']    \n",
            " ization)                                                                                         \n",
            "                                                                                                  \n",
            " conv2_block2_2_relu (Activatio  (None, 56, 56, 64)  0           ['conv2_block2_2_bn[0][0]']      \n",
            " n)                                                                                               \n",
            "                                                                                                  \n",
            " conv2_block2_3_conv (Conv2D)   (None, 56, 56, 256)  16640       ['conv2_block2_2_relu[0][0]']    \n",
            "                                                                                                  \n",
            " conv2_block2_3_bn (BatchNormal  (None, 56, 56, 256)  1024       ['conv2_block2_3_conv[0][0]']    \n",
            " ization)                                                                                         \n",
            "                                                                                                  \n",
            " conv2_block2_add (Add)         (None, 56, 56, 256)  0           ['conv2_block1_out[0][0]',       \n",
            "                                                                  'conv2_block2_3_bn[0][0]']      \n",
            "                                                                                                  \n",
            " conv2_block2_out (Activation)  (None, 56, 56, 256)  0           ['conv2_block2_add[0][0]']       \n",
            "                                                                                                  \n",
            " conv2_block3_1_conv (Conv2D)   (None, 56, 56, 64)   16448       ['conv2_block2_out[0][0]']       \n",
            "                                                                                                  \n",
            " conv2_block3_1_bn (BatchNormal  (None, 56, 56, 64)  256         ['conv2_block3_1_conv[0][0]']    \n",
            " ization)                                                                                         \n",
            "                                                                                                  \n",
            " conv2_block3_1_relu (Activatio  (None, 56, 56, 64)  0           ['conv2_block3_1_bn[0][0]']      \n",
            " n)                                                                                               \n",
            "                                                                                                  \n",
            " conv2_block3_2_conv (Conv2D)   (None, 56, 56, 64)   36928       ['conv2_block3_1_relu[0][0]']    \n",
            "                                                                                                  \n",
            " conv2_block3_2_bn (BatchNormal  (None, 56, 56, 64)  256         ['conv2_block3_2_conv[0][0]']    \n",
            " ization)                                                                                         \n",
            "                                                                                                  \n",
            " conv2_block3_2_relu (Activatio  (None, 56, 56, 64)  0           ['conv2_block3_2_bn[0][0]']      \n",
            " n)                                                                                               \n",
            "                                                                                                  \n",
            " conv2_block3_3_conv (Conv2D)   (None, 56, 56, 256)  16640       ['conv2_block3_2_relu[0][0]']    \n",
            "                                                                                                  \n",
            " conv2_block3_3_bn (BatchNormal  (None, 56, 56, 256)  1024       ['conv2_block3_3_conv[0][0]']    \n",
            " ization)                                                                                         \n",
            "                                                                                                  \n",
            " conv2_block3_add (Add)         (None, 56, 56, 256)  0           ['conv2_block2_out[0][0]',       \n",
            "                                                                  'conv2_block3_3_bn[0][0]']      \n",
            "                                                                                                  \n",
            " conv2_block3_out (Activation)  (None, 56, 56, 256)  0           ['conv2_block3_add[0][0]']       \n",
            "                                                                                                  \n",
            " conv3_block1_1_conv (Conv2D)   (None, 28, 28, 128)  32896       ['conv2_block3_out[0][0]']       \n",
            "                                                                                                  \n",
            " conv3_block1_1_bn (BatchNormal  (None, 28, 28, 128)  512        ['conv3_block1_1_conv[0][0]']    \n",
            " ization)                                                                                         \n",
            "                                                                                                  \n",
            " conv3_block1_1_relu (Activatio  (None, 28, 28, 128)  0          ['conv3_block1_1_bn[0][0]']      \n",
            " n)                                                                                               \n",
            "                                                                                                  \n",
            " conv3_block1_2_conv (Conv2D)   (None, 28, 28, 128)  147584      ['conv3_block1_1_relu[0][0]']    \n",
            "                                                                                                  \n",
            " conv3_block1_2_bn (BatchNormal  (None, 28, 28, 128)  512        ['conv3_block1_2_conv[0][0]']    \n",
            " ization)                                                                                         \n",
            "                                                                                                  \n",
            " conv3_block1_2_relu (Activatio  (None, 28, 28, 128)  0          ['conv3_block1_2_bn[0][0]']      \n",
            " n)                                                                                               \n",
            "                                                                                                  \n",
            " conv3_block1_0_conv (Conv2D)   (None, 28, 28, 512)  131584      ['conv2_block3_out[0][0]']       \n",
            "                                                                                                  \n",
            " conv3_block1_3_conv (Conv2D)   (None, 28, 28, 512)  66048       ['conv3_block1_2_relu[0][0]']    \n",
            "                                                                                                  \n",
            " conv3_block1_0_bn (BatchNormal  (None, 28, 28, 512)  2048       ['conv3_block1_0_conv[0][0]']    \n",
            " ization)                                                                                         \n",
            "                                                                                                  \n",
            " conv3_block1_3_bn (BatchNormal  (None, 28, 28, 512)  2048       ['conv3_block1_3_conv[0][0]']    \n",
            " ization)                                                                                         \n",
            "                                                                                                  \n",
            " conv3_block1_add (Add)         (None, 28, 28, 512)  0           ['conv3_block1_0_bn[0][0]',      \n",
            "                                                                  'conv3_block1_3_bn[0][0]']      \n",
            "                                                                                                  \n",
            " conv3_block1_out (Activation)  (None, 28, 28, 512)  0           ['conv3_block1_add[0][0]']       \n",
            "                                                                                                  \n",
            " conv3_block2_1_conv (Conv2D)   (None, 28, 28, 128)  65664       ['conv3_block1_out[0][0]']       \n",
            "                                                                                                  \n",
            " conv3_block2_1_bn (BatchNormal  (None, 28, 28, 128)  512        ['conv3_block2_1_conv[0][0]']    \n",
            " ization)                                                                                         \n",
            "                                                                                                  \n",
            " conv3_block2_1_relu (Activatio  (None, 28, 28, 128)  0          ['conv3_block2_1_bn[0][0]']      \n",
            " n)                                                                                               \n",
            "                                                                                                  \n",
            " conv3_block2_2_conv (Conv2D)   (None, 28, 28, 128)  147584      ['conv3_block2_1_relu[0][0]']    \n",
            "                                                                                                  \n",
            " conv3_block2_2_bn (BatchNormal  (None, 28, 28, 128)  512        ['conv3_block2_2_conv[0][0]']    \n",
            " ization)                                                                                         \n",
            "                                                                                                  \n",
            " conv3_block2_2_relu (Activatio  (None, 28, 28, 128)  0          ['conv3_block2_2_bn[0][0]']      \n",
            " n)                                                                                               \n",
            "                                                                                                  \n",
            " conv3_block2_3_conv (Conv2D)   (None, 28, 28, 512)  66048       ['conv3_block2_2_relu[0][0]']    \n",
            "                                                                                                  \n",
            " conv3_block2_3_bn (BatchNormal  (None, 28, 28, 512)  2048       ['conv3_block2_3_conv[0][0]']    \n",
            " ization)                                                                                         \n",
            "                                                                                                  \n",
            " conv3_block2_add (Add)         (None, 28, 28, 512)  0           ['conv3_block1_out[0][0]',       \n",
            "                                                                  'conv3_block2_3_bn[0][0]']      \n",
            "                                                                                                  \n",
            " conv3_block2_out (Activation)  (None, 28, 28, 512)  0           ['conv3_block2_add[0][0]']       \n",
            "                                                                                                  \n",
            " conv3_block3_1_conv (Conv2D)   (None, 28, 28, 128)  65664       ['conv3_block2_out[0][0]']       \n",
            "                                                                                                  \n",
            " conv3_block3_1_bn (BatchNormal  (None, 28, 28, 128)  512        ['conv3_block3_1_conv[0][0]']    \n",
            " ization)                                                                                         \n",
            "                                                                                                  \n",
            " conv3_block3_1_relu (Activatio  (None, 28, 28, 128)  0          ['conv3_block3_1_bn[0][0]']      \n",
            " n)                                                                                               \n",
            "                                                                                                  \n",
            " conv3_block3_2_conv (Conv2D)   (None, 28, 28, 128)  147584      ['conv3_block3_1_relu[0][0]']    \n",
            "                                                                                                  \n",
            " conv3_block3_2_bn (BatchNormal  (None, 28, 28, 128)  512        ['conv3_block3_2_conv[0][0]']    \n",
            " ization)                                                                                         \n",
            "                                                                                                  \n",
            " conv3_block3_2_relu (Activatio  (None, 28, 28, 128)  0          ['conv3_block3_2_bn[0][0]']      \n",
            " n)                                                                                               \n",
            "                                                                                                  \n",
            " conv3_block3_3_conv (Conv2D)   (None, 28, 28, 512)  66048       ['conv3_block3_2_relu[0][0]']    \n",
            "                                                                                                  \n",
            " conv3_block3_3_bn (BatchNormal  (None, 28, 28, 512)  2048       ['conv3_block3_3_conv[0][0]']    \n",
            " ization)                                                                                         \n",
            "                                                                                                  \n",
            " conv3_block3_add (Add)         (None, 28, 28, 512)  0           ['conv3_block2_out[0][0]',       \n",
            "                                                                  'conv3_block3_3_bn[0][0]']      \n",
            "                                                                                                  \n",
            " conv3_block3_out (Activation)  (None, 28, 28, 512)  0           ['conv3_block3_add[0][0]']       \n",
            "                                                                                                  \n",
            " conv3_block4_1_conv (Conv2D)   (None, 28, 28, 128)  65664       ['conv3_block3_out[0][0]']       \n",
            "                                                                                                  \n",
            " conv3_block4_1_bn (BatchNormal  (None, 28, 28, 128)  512        ['conv3_block4_1_conv[0][0]']    \n",
            " ization)                                                                                         \n",
            "                                                                                                  \n",
            " conv3_block4_1_relu (Activatio  (None, 28, 28, 128)  0          ['conv3_block4_1_bn[0][0]']      \n",
            " n)                                                                                               \n",
            "                                                                                                  \n",
            " conv3_block4_2_conv (Conv2D)   (None, 28, 28, 128)  147584      ['conv3_block4_1_relu[0][0]']    \n",
            "                                                                                                  \n",
            " conv3_block4_2_bn (BatchNormal  (None, 28, 28, 128)  512        ['conv3_block4_2_conv[0][0]']    \n",
            " ization)                                                                                         \n",
            "                                                                                                  \n",
            " conv3_block4_2_relu (Activatio  (None, 28, 28, 128)  0          ['conv3_block4_2_bn[0][0]']      \n",
            " n)                                                                                               \n",
            "                                                                                                  \n",
            " conv3_block4_3_conv (Conv2D)   (None, 28, 28, 512)  66048       ['conv3_block4_2_relu[0][0]']    \n",
            "                                                                                                  \n",
            " conv3_block4_3_bn (BatchNormal  (None, 28, 28, 512)  2048       ['conv3_block4_3_conv[0][0]']    \n",
            " ization)                                                                                         \n",
            "                                                                                                  \n",
            " conv3_block4_add (Add)         (None, 28, 28, 512)  0           ['conv3_block3_out[0][0]',       \n",
            "                                                                  'conv3_block4_3_bn[0][0]']      \n",
            "                                                                                                  \n",
            " conv3_block4_out (Activation)  (None, 28, 28, 512)  0           ['conv3_block4_add[0][0]']       \n",
            "                                                                                                  \n",
            " conv4_block1_1_conv (Conv2D)   (None, 14, 14, 256)  131328      ['conv3_block4_out[0][0]']       \n",
            "                                                                                                  \n",
            " conv4_block1_1_bn (BatchNormal  (None, 14, 14, 256)  1024       ['conv4_block1_1_conv[0][0]']    \n",
            " ization)                                                                                         \n",
            "                                                                                                  \n",
            " conv4_block1_1_relu (Activatio  (None, 14, 14, 256)  0          ['conv4_block1_1_bn[0][0]']      \n",
            " n)                                                                                               \n",
            "                                                                                                  \n",
            " conv4_block1_2_conv (Conv2D)   (None, 14, 14, 256)  590080      ['conv4_block1_1_relu[0][0]']    \n",
            "                                                                                                  \n",
            " conv4_block1_2_bn (BatchNormal  (None, 14, 14, 256)  1024       ['conv4_block1_2_conv[0][0]']    \n",
            " ization)                                                                                         \n",
            "                                                                                                  \n",
            " conv4_block1_2_relu (Activatio  (None, 14, 14, 256)  0          ['conv4_block1_2_bn[0][0]']      \n",
            " n)                                                                                               \n",
            "                                                                                                  \n",
            " conv4_block1_0_conv (Conv2D)   (None, 14, 14, 1024  525312      ['conv3_block4_out[0][0]']       \n",
            "                                )                                                                 \n",
            "                                                                                                  \n",
            " conv4_block1_3_conv (Conv2D)   (None, 14, 14, 1024  263168      ['conv4_block1_2_relu[0][0]']    \n",
            "                                )                                                                 \n",
            "                                                                                                  \n",
            " conv4_block1_0_bn (BatchNormal  (None, 14, 14, 1024  4096       ['conv4_block1_0_conv[0][0]']    \n",
            " ization)                       )                                                                 \n",
            "                                                                                                  \n",
            " conv4_block1_3_bn (BatchNormal  (None, 14, 14, 1024  4096       ['conv4_block1_3_conv[0][0]']    \n",
            " ization)                       )                                                                 \n",
            "                                                                                                  \n",
            " conv4_block1_add (Add)         (None, 14, 14, 1024  0           ['conv4_block1_0_bn[0][0]',      \n",
            "                                )                                 'conv4_block1_3_bn[0][0]']      \n",
            "                                                                                                  \n",
            " conv4_block1_out (Activation)  (None, 14, 14, 1024  0           ['conv4_block1_add[0][0]']       \n",
            "                                )                                                                 \n",
            "                                                                                                  \n",
            " conv4_block2_1_conv (Conv2D)   (None, 14, 14, 256)  262400      ['conv4_block1_out[0][0]']       \n",
            "                                                                                                  \n",
            " conv4_block2_1_bn (BatchNormal  (None, 14, 14, 256)  1024       ['conv4_block2_1_conv[0][0]']    \n",
            " ization)                                                                                         \n",
            "                                                                                                  \n",
            " conv4_block2_1_relu (Activatio  (None, 14, 14, 256)  0          ['conv4_block2_1_bn[0][0]']      \n",
            " n)                                                                                               \n",
            "                                                                                                  \n",
            " conv4_block2_2_conv (Conv2D)   (None, 14, 14, 256)  590080      ['conv4_block2_1_relu[0][0]']    \n",
            "                                                                                                  \n",
            " conv4_block2_2_bn (BatchNormal  (None, 14, 14, 256)  1024       ['conv4_block2_2_conv[0][0]']    \n",
            " ization)                                                                                         \n",
            "                                                                                                  \n",
            " conv4_block2_2_relu (Activatio  (None, 14, 14, 256)  0          ['conv4_block2_2_bn[0][0]']      \n",
            " n)                                                                                               \n",
            "                                                                                                  \n",
            " conv4_block2_3_conv (Conv2D)   (None, 14, 14, 1024  263168      ['conv4_block2_2_relu[0][0]']    \n",
            "                                )                                                                 \n",
            "                                                                                                  \n",
            " conv4_block2_3_bn (BatchNormal  (None, 14, 14, 1024  4096       ['conv4_block2_3_conv[0][0]']    \n",
            " ization)                       )                                                                 \n",
            "                                                                                                  \n",
            " conv4_block2_add (Add)         (None, 14, 14, 1024  0           ['conv4_block1_out[0][0]',       \n",
            "                                )                                 'conv4_block2_3_bn[0][0]']      \n",
            "                                                                                                  \n",
            " conv4_block2_out (Activation)  (None, 14, 14, 1024  0           ['conv4_block2_add[0][0]']       \n",
            "                                )                                                                 \n",
            "                                                                                                  \n",
            " conv4_block3_1_conv (Conv2D)   (None, 14, 14, 256)  262400      ['conv4_block2_out[0][0]']       \n",
            "                                                                                                  \n",
            " conv4_block3_1_bn (BatchNormal  (None, 14, 14, 256)  1024       ['conv4_block3_1_conv[0][0]']    \n",
            " ization)                                                                                         \n",
            "                                                                                                  \n",
            " conv4_block3_1_relu (Activatio  (None, 14, 14, 256)  0          ['conv4_block3_1_bn[0][0]']      \n",
            " n)                                                                                               \n",
            "                                                                                                  \n",
            " conv4_block3_2_conv (Conv2D)   (None, 14, 14, 256)  590080      ['conv4_block3_1_relu[0][0]']    \n",
            "                                                                                                  \n",
            " conv4_block3_2_bn (BatchNormal  (None, 14, 14, 256)  1024       ['conv4_block3_2_conv[0][0]']    \n",
            " ization)                                                                                         \n",
            "                                                                                                  \n",
            " conv4_block3_2_relu (Activatio  (None, 14, 14, 256)  0          ['conv4_block3_2_bn[0][0]']      \n",
            " n)                                                                                               \n",
            "                                                                                                  \n",
            " conv4_block3_3_conv (Conv2D)   (None, 14, 14, 1024  263168      ['conv4_block3_2_relu[0][0]']    \n",
            "                                )                                                                 \n",
            "                                                                                                  \n",
            " conv4_block3_3_bn (BatchNormal  (None, 14, 14, 1024  4096       ['conv4_block3_3_conv[0][0]']    \n",
            " ization)                       )                                                                 \n",
            "                                                                                                  \n",
            " conv4_block3_add (Add)         (None, 14, 14, 1024  0           ['conv4_block2_out[0][0]',       \n",
            "                                )                                 'conv4_block3_3_bn[0][0]']      \n",
            "                                                                                                  \n",
            " conv4_block3_out (Activation)  (None, 14, 14, 1024  0           ['conv4_block3_add[0][0]']       \n",
            "                                )                                                                 \n",
            "                                                                                                  \n",
            " conv4_block4_1_conv (Conv2D)   (None, 14, 14, 256)  262400      ['conv4_block3_out[0][0]']       \n",
            "                                                                                                  \n",
            " conv4_block4_1_bn (BatchNormal  (None, 14, 14, 256)  1024       ['conv4_block4_1_conv[0][0]']    \n",
            " ization)                                                                                         \n",
            "                                                                                                  \n",
            " conv4_block4_1_relu (Activatio  (None, 14, 14, 256)  0          ['conv4_block4_1_bn[0][0]']      \n",
            " n)                                                                                               \n",
            "                                                                                                  \n",
            " conv4_block4_2_conv (Conv2D)   (None, 14, 14, 256)  590080      ['conv4_block4_1_relu[0][0]']    \n",
            "                                                                                                  \n",
            " conv4_block4_2_bn (BatchNormal  (None, 14, 14, 256)  1024       ['conv4_block4_2_conv[0][0]']    \n",
            " ization)                                                                                         \n",
            "                                                                                                  \n",
            " conv4_block4_2_relu (Activatio  (None, 14, 14, 256)  0          ['conv4_block4_2_bn[0][0]']      \n",
            " n)                                                                                               \n",
            "                                                                                                  \n",
            " conv4_block4_3_conv (Conv2D)   (None, 14, 14, 1024  263168      ['conv4_block4_2_relu[0][0]']    \n",
            "                                )                                                                 \n",
            "                                                                                                  \n",
            " conv4_block4_3_bn (BatchNormal  (None, 14, 14, 1024  4096       ['conv4_block4_3_conv[0][0]']    \n",
            " ization)                       )                                                                 \n",
            "                                                                                                  \n",
            " conv4_block4_add (Add)         (None, 14, 14, 1024  0           ['conv4_block3_out[0][0]',       \n",
            "                                )                                 'conv4_block4_3_bn[0][0]']      \n",
            "                                                                                                  \n",
            " conv4_block4_out (Activation)  (None, 14, 14, 1024  0           ['conv4_block4_add[0][0]']       \n",
            "                                )                                                                 \n",
            "                                                                                                  \n",
            " conv4_block5_1_conv (Conv2D)   (None, 14, 14, 256)  262400      ['conv4_block4_out[0][0]']       \n",
            "                                                                                                  \n",
            " conv4_block5_1_bn (BatchNormal  (None, 14, 14, 256)  1024       ['conv4_block5_1_conv[0][0]']    \n",
            " ization)                                                                                         \n",
            "                                                                                                  \n",
            " conv4_block5_1_relu (Activatio  (None, 14, 14, 256)  0          ['conv4_block5_1_bn[0][0]']      \n",
            " n)                                                                                               \n",
            "                                                                                                  \n",
            " conv4_block5_2_conv (Conv2D)   (None, 14, 14, 256)  590080      ['conv4_block5_1_relu[0][0]']    \n",
            "                                                                                                  \n",
            " conv4_block5_2_bn (BatchNormal  (None, 14, 14, 256)  1024       ['conv4_block5_2_conv[0][0]']    \n",
            " ization)                                                                                         \n",
            "                                                                                                  \n",
            " conv4_block5_2_relu (Activatio  (None, 14, 14, 256)  0          ['conv4_block5_2_bn[0][0]']      \n",
            " n)                                                                                               \n",
            "                                                                                                  \n",
            " conv4_block5_3_conv (Conv2D)   (None, 14, 14, 1024  263168      ['conv4_block5_2_relu[0][0]']    \n",
            "                                )                                                                 \n",
            "                                                                                                  \n",
            " conv4_block5_3_bn (BatchNormal  (None, 14, 14, 1024  4096       ['conv4_block5_3_conv[0][0]']    \n",
            " ization)                       )                                                                 \n",
            "                                                                                                  \n",
            " conv4_block5_add (Add)         (None, 14, 14, 1024  0           ['conv4_block4_out[0][0]',       \n",
            "                                )                                 'conv4_block5_3_bn[0][0]']      \n",
            "                                                                                                  \n",
            " conv4_block5_out (Activation)  (None, 14, 14, 1024  0           ['conv4_block5_add[0][0]']       \n",
            "                                )                                                                 \n",
            "                                                                                                  \n",
            " conv4_block6_1_conv (Conv2D)   (None, 14, 14, 256)  262400      ['conv4_block5_out[0][0]']       \n",
            "                                                                                                  \n",
            " conv4_block6_1_bn (BatchNormal  (None, 14, 14, 256)  1024       ['conv4_block6_1_conv[0][0]']    \n",
            " ization)                                                                                         \n",
            "                                                                                                  \n",
            " conv4_block6_1_relu (Activatio  (None, 14, 14, 256)  0          ['conv4_block6_1_bn[0][0]']      \n",
            " n)                                                                                               \n",
            "                                                                                                  \n",
            " conv4_block6_2_conv (Conv2D)   (None, 14, 14, 256)  590080      ['conv4_block6_1_relu[0][0]']    \n",
            "                                                                                                  \n",
            " conv4_block6_2_bn (BatchNormal  (None, 14, 14, 256)  1024       ['conv4_block6_2_conv[0][0]']    \n",
            " ization)                                                                                         \n",
            "                                                                                                  \n",
            " conv4_block6_2_relu (Activatio  (None, 14, 14, 256)  0          ['conv4_block6_2_bn[0][0]']      \n",
            " n)                                                                                               \n",
            "                                                                                                  \n",
            " conv4_block6_3_conv (Conv2D)   (None, 14, 14, 1024  263168      ['conv4_block6_2_relu[0][0]']    \n",
            "                                )                                                                 \n",
            "                                                                                                  \n",
            " conv4_block6_3_bn (BatchNormal  (None, 14, 14, 1024  4096       ['conv4_block6_3_conv[0][0]']    \n",
            " ization)                       )                                                                 \n",
            "                                                                                                  \n",
            " conv4_block6_add (Add)         (None, 14, 14, 1024  0           ['conv4_block5_out[0][0]',       \n",
            "                                )                                 'conv4_block6_3_bn[0][0]']      \n",
            "                                                                                                  \n",
            " conv4_block6_out (Activation)  (None, 14, 14, 1024  0           ['conv4_block6_add[0][0]']       \n",
            "                                )                                                                 \n",
            "                                                                                                  \n",
            " conv5_block1_1_conv (Conv2D)   (None, 7, 7, 512)    524800      ['conv4_block6_out[0][0]']       \n",
            "                                                                                                  \n",
            " conv5_block1_1_bn (BatchNormal  (None, 7, 7, 512)   2048        ['conv5_block1_1_conv[0][0]']    \n",
            " ization)                                                                                         \n",
            "                                                                                                  \n",
            " conv5_block1_1_relu (Activatio  (None, 7, 7, 512)   0           ['conv5_block1_1_bn[0][0]']      \n",
            " n)                                                                                               \n",
            "                                                                                                  \n",
            " conv5_block1_2_conv (Conv2D)   (None, 7, 7, 512)    2359808     ['conv5_block1_1_relu[0][0]']    \n",
            "                                                                                                  \n",
            " conv5_block1_2_bn (BatchNormal  (None, 7, 7, 512)   2048        ['conv5_block1_2_conv[0][0]']    \n",
            " ization)                                                                                         \n",
            "                                                                                                  \n",
            " conv5_block1_2_relu (Activatio  (None, 7, 7, 512)   0           ['conv5_block1_2_bn[0][0]']      \n",
            " n)                                                                                               \n",
            "                                                                                                  \n",
            " conv5_block1_0_conv (Conv2D)   (None, 7, 7, 2048)   2099200     ['conv4_block6_out[0][0]']       \n",
            "                                                                                                  \n",
            " conv5_block1_3_conv (Conv2D)   (None, 7, 7, 2048)   1050624     ['conv5_block1_2_relu[0][0]']    \n",
            "                                                                                                  \n",
            " conv5_block1_0_bn (BatchNormal  (None, 7, 7, 2048)  8192        ['conv5_block1_0_conv[0][0]']    \n",
            " ization)                                                                                         \n",
            "                                                                                                  \n",
            " conv5_block1_3_bn (BatchNormal  (None, 7, 7, 2048)  8192        ['conv5_block1_3_conv[0][0]']    \n",
            " ization)                                                                                         \n",
            "                                                                                                  \n",
            " conv5_block1_add (Add)         (None, 7, 7, 2048)   0           ['conv5_block1_0_bn[0][0]',      \n",
            "                                                                  'conv5_block1_3_bn[0][0]']      \n",
            "                                                                                                  \n",
            " conv5_block1_out (Activation)  (None, 7, 7, 2048)   0           ['conv5_block1_add[0][0]']       \n",
            "                                                                                                  \n",
            " conv5_block2_1_conv (Conv2D)   (None, 7, 7, 512)    1049088     ['conv5_block1_out[0][0]']       \n",
            "                                                                                                  \n",
            " conv5_block2_1_bn (BatchNormal  (None, 7, 7, 512)   2048        ['conv5_block2_1_conv[0][0]']    \n",
            " ization)                                                                                         \n",
            "                                                                                                  \n",
            " conv5_block2_1_relu (Activatio  (None, 7, 7, 512)   0           ['conv5_block2_1_bn[0][0]']      \n",
            " n)                                                                                               \n",
            "                                                                                                  \n",
            " conv5_block2_2_conv (Conv2D)   (None, 7, 7, 512)    2359808     ['conv5_block2_1_relu[0][0]']    \n",
            "                                                                                                  \n",
            " conv5_block2_2_bn (BatchNormal  (None, 7, 7, 512)   2048        ['conv5_block2_2_conv[0][0]']    \n",
            " ization)                                                                                         \n",
            "                                                                                                  \n",
            " conv5_block2_2_relu (Activatio  (None, 7, 7, 512)   0           ['conv5_block2_2_bn[0][0]']      \n",
            " n)                                                                                               \n",
            "                                                                                                  \n",
            " conv5_block2_3_conv (Conv2D)   (None, 7, 7, 2048)   1050624     ['conv5_block2_2_relu[0][0]']    \n",
            "                                                                                                  \n",
            " conv5_block2_3_bn (BatchNormal  (None, 7, 7, 2048)  8192        ['conv5_block2_3_conv[0][0]']    \n",
            " ization)                                                                                         \n",
            "                                                                                                  \n",
            " conv5_block2_add (Add)         (None, 7, 7, 2048)   0           ['conv5_block1_out[0][0]',       \n",
            "                                                                  'conv5_block2_3_bn[0][0]']      \n",
            "                                                                                                  \n",
            " conv5_block2_out (Activation)  (None, 7, 7, 2048)   0           ['conv5_block2_add[0][0]']       \n",
            "                                                                                                  \n",
            " conv5_block3_1_conv (Conv2D)   (None, 7, 7, 512)    1049088     ['conv5_block2_out[0][0]']       \n",
            "                                                                                                  \n",
            " conv5_block3_1_bn (BatchNormal  (None, 7, 7, 512)   2048        ['conv5_block3_1_conv[0][0]']    \n",
            " ization)                                                                                         \n",
            "                                                                                                  \n",
            " conv5_block3_1_relu (Activatio  (None, 7, 7, 512)   0           ['conv5_block3_1_bn[0][0]']      \n",
            " n)                                                                                               \n",
            "                                                                                                  \n",
            " conv5_block3_2_conv (Conv2D)   (None, 7, 7, 512)    2359808     ['conv5_block3_1_relu[0][0]']    \n",
            "                                                                                                  \n",
            " conv5_block3_2_bn (BatchNormal  (None, 7, 7, 512)   2048        ['conv5_block3_2_conv[0][0]']    \n",
            " ization)                                                                                         \n",
            "                                                                                                  \n",
            " conv5_block3_2_relu (Activatio  (None, 7, 7, 512)   0           ['conv5_block3_2_bn[0][0]']      \n",
            " n)                                                                                               \n",
            "                                                                                                  \n",
            " conv5_block3_3_conv (Conv2D)   (None, 7, 7, 2048)   1050624     ['conv5_block3_2_relu[0][0]']    \n",
            "                                                                                                  \n",
            " conv5_block3_3_bn (BatchNormal  (None, 7, 7, 2048)  8192        ['conv5_block3_3_conv[0][0]']    \n",
            " ization)                                                                                         \n",
            "                                                                                                  \n",
            " conv5_block3_add (Add)         (None, 7, 7, 2048)   0           ['conv5_block2_out[0][0]',       \n",
            "                                                                  'conv5_block3_3_bn[0][0]']      \n",
            "                                                                                                  \n",
            " conv5_block3_out (Activation)  (None, 7, 7, 2048)   0           ['conv5_block3_add[0][0]']       \n",
            "                                                                                                  \n",
            "==================================================================================================\n",
            "Total params: 23,587,712\n",
            "Trainable params: 4,465,664\n",
            "Non-trainable params: 19,122,048\n",
            "__________________________________________________________________________________________________\n"
          ]
        }
      ]
    },
    {
      "cell_type": "markdown",
      "source": [
        "# **Multiclass Classifier Based On InceptionV3**"
      ],
      "metadata": {
        "id": "78oleG1J4wdj"
      }
    },
    {
      "cell_type": "code",
      "source": [
        "base_model = InceptionV3(weights='imagenet', \n",
        "                                include_top=False, \n",
        "                                input_shape=(139, 139,3))\n",
        "base_model.trainable = False\n",
        "\n",
        "add_model = Sequential()\n",
        "add_model.add(base_model)\n",
        "add_model.add(GlobalAveragePooling2D())\n",
        "add_model.add(Dropout(0.5))\n",
        "add_model.add(Dense(CATEGORIES,activation='softmax'))\n",
        "add_model.summary()"
      ],
      "metadata": {
        "id": "IOmUqsfG430J",
        "outputId": "ebd40105-c019-423f-eb20-4ae9206e3951",
        "colab": {
          "base_uri": "https://localhost:8080/"
        }
      },
      "execution_count": null,
      "outputs": [
        {
          "output_type": "stream",
          "name": "stdout",
          "text": [
            "Model: \"sequential_2\"\n",
            "_________________________________________________________________\n",
            " Layer (type)                Output Shape              Param #   \n",
            "=================================================================\n",
            " inception_v3 (Functional)   (None, 3, 3, 2048)        21802784  \n",
            "                                                                 \n",
            " global_average_pooling2d_2   (None, 2048)             0         \n",
            " (GlobalAveragePooling2D)                                        \n",
            "                                                                 \n",
            " dropout_2 (Dropout)         (None, 2048)              0         \n",
            "                                                                 \n",
            " dense_1 (Dense)             (None, 5)                 10245     \n",
            "                                                                 \n",
            "=================================================================\n",
            "Total params: 21,813,029\n",
            "Trainable params: 10,245\n",
            "Non-trainable params: 21,802,784\n",
            "_________________________________________________________________\n"
          ]
        }
      ]
    },
    {
      "cell_type": "markdown",
      "source": [
        "# **Multiclass Classifier Based On EfficientNet**"
      ],
      "metadata": {
        "id": "X_3zHL24N7dr"
      }
    },
    {
      "cell_type": "code",
      "source": [
        "#efficient net code"
      ],
      "metadata": {
        "id": "TEhAwjNfN6pN"
      },
      "execution_count": null,
      "outputs": []
    },
    {
      "cell_type": "markdown",
      "metadata": {
        "id": "EVvlM0Zt59cN"
      },
      "source": [
        "# **Compile the model**"
      ]
    },
    {
      "cell_type": "code",
      "metadata": {
        "id": "w5dFUoZ46AMX",
        "colab": {
          "base_uri": "https://localhost:8080/"
        },
        "outputId": "e49ac42e-7cf1-4129-c3dd-79860d074243"
      },
      "source": [
        "'''\n",
        "Compiling the model using the loss function binary crossentropy and RMSProp !\n",
        "\n",
        "return : None\n",
        "\n",
        "params : model object \n",
        "'''\n",
        "def compile_model(model):\n",
        "  model.compile(loss='binary_crossentropy',\n",
        "                optimizer=RMSprop(lr=1e-5), #optionally use the Adam with learning rate 0.001 - 1e-5\n",
        "                metrics=['accuracy'])\n",
        "compile_model(resnet_model)\n"
      ],
      "execution_count": 10,
      "outputs": [
        {
          "output_type": "stream",
          "name": "stderr",
          "text": [
            "/usr/local/lib/python3.7/dist-packages/keras/optimizers/optimizer_v2/rmsprop.py:135: UserWarning: The `lr` argument is deprecated, use `learning_rate` instead.\n",
            "  super(RMSprop, self).__init__(name, **kwargs)\n"
          ]
        }
      ]
    },
    {
      "cell_type": "markdown",
      "metadata": {
        "id": "utjDFI0vhN-j"
      },
      "source": [
        "# **The Path To Model H5 Files**"
      ]
    },
    {
      "cell_type": "code",
      "metadata": {
        "id": "lQQikA-3D72T"
      },
      "source": [
        "'''\n",
        "The below callback list is used to moniter the validation accuracy, and the save the best version of the\n",
        "CNN model. The paths has been specified for later use !\n",
        "\n",
        "The Classifier model and the history file are saved in the Binary Classifier Models directory, in the format:\n",
        "\n",
        "Model_Name_Directory\n",
        "                | \n",
        "                |\n",
        "                 ---- Model_File.h5\n",
        "                 ---- Model_History.pickle\n",
        "                 -----Model_Test_Acc.pickle\n",
        "'''\n",
        "\n",
        "model_path    = '/content/drive/MyDrive/DCNN Classifier Models /Test Classifier/Test Classifier_Model.h5'\n",
        "alexnet_path  = '/content/drive/MyDrive/DCNN Classifier Models /AlexNet Classifier/AlexNet_Classifier_Model.h5'\n",
        "resnet_path   = '/content/drive/MyDrive/DCNN Classifier Models /ResNet Classifier/ResNet_Model.h5'"
      ],
      "execution_count": 11,
      "outputs": []
    },
    {
      "cell_type": "markdown",
      "metadata": {
        "id": "5i-9ZzE5qICk"
      },
      "source": [
        "# **Validation and CallBack Lists**"
      ]
    },
    {
      "cell_type": "markdown",
      "metadata": {
        "id": "1wug3BUMhWoF"
      },
      "source": [
        "# Early Stopping To Prevent Overfitting Of The Models"
      ]
    },
    {
      "cell_type": "code",
      "metadata": {
        "id": "PgWlesAC4SI7"
      },
      "source": [
        "'''\n",
        "Early stopping is a mechanism, which allows to moniter a value, specially the val_loss, and stop the \n",
        "training, at a particular patience level, to avoid overfitting !\n",
        "'''\n",
        "\n",
        "early_call_back = EarlyStopping(monitor=\"val_loss\",patience=4,verbose=1,mode=\"auto\",restore_best_weights=True)"
      ],
      "execution_count": 12,
      "outputs": []
    },
    {
      "cell_type": "markdown",
      "metadata": {
        "id": "Xj2IHe2phdkI"
      },
      "source": [
        "# Model Check Points To Save The Best Weights"
      ]
    },
    {
      "cell_type": "code",
      "metadata": {
        "id": "kR2Rgy-AQvml"
      },
      "source": [
        "callback_checkpoint=ModelCheckpoint(resnet_path,monitor='val_accuracy',verbose=1,save_best_only=True,mode='max')\n",
        "callback_checkpoint_list=[callback_checkpoint,early_call_back]#can remove the early stopping if needed !"
      ],
      "execution_count": 13,
      "outputs": []
    },
    {
      "cell_type": "markdown",
      "metadata": {
        "id": "UovyYQST6aey"
      },
      "source": [
        "# **Training the datset based on given model !**"
      ]
    },
    {
      "cell_type": "code",
      "metadata": {
        "id": "IASzW7LI6e7N",
        "colab": {
          "base_uri": "https://localhost:8080/"
        },
        "outputId": "615668c7-37e8-4371-ccc0-95ab8a54c52d"
      },
      "source": [
        "'''\n",
        "The below function takes in an arguement, which is the model to be trained and it trains the dataset with the specified model\n",
        "epochs:depending on the early stopping\n",
        "\n",
        "Params: model object\n",
        "\n",
        "Return the trained object\n",
        "'''\n",
        "\n",
        "def train_the_model(model):\n",
        "  the_final_train = model.fit(\n",
        "                      training_images_datagen,\n",
        "                      callbacks       = callback_checkpoint_list,\n",
        "                      validation_data = valid_images_datagen,\n",
        "                      steps_per_epoch = 3, #the steps per epoch is set to 2, but cannot be set to more than 3(because of error !) \n",
        "                      epochs          = 30,#100 for regular !\n",
        "                      verbose         = 2,\n",
        "                    )\n",
        "  return the_final_train\n",
        "\n",
        "\n",
        "trained_model=train_the_model(resnet_model)"
      ],
      "execution_count": null,
      "outputs": [
        {
          "output_type": "stream",
          "name": "stdout",
          "text": [
            "Epoch 1/30\n",
            "\n",
            "Epoch 1: val_accuracy did not improve from 0.59615\n",
            "3/3 - 97s - loss: 0.2314 - accuracy: 0.8065 - val_loss: 0.3918 - val_accuracy: 0.5962 - 97s/epoch - 32s/step\n",
            "Epoch 2/30\n"
          ]
        }
      ]
    },
    {
      "cell_type": "markdown",
      "metadata": {
        "id": "SnfCsHlkHZzZ"
      },
      "source": [
        "# **Saving History Pickle File !**"
      ]
    },
    {
      "cell_type": "markdown",
      "metadata": {
        "id": "hL7W5be4hky8"
      },
      "source": [
        "# Path To Store The Respective Model Training And Validation Losses"
      ]
    },
    {
      "cell_type": "code",
      "metadata": {
        "id": "uevOvCWNHZex"
      },
      "source": [
        "model_pickle_path    = '/content/drive/MyDrive/DCNN Classifier Models /Test Classifier/Test Classifier_Model.pickle'\n",
        "alexnet_pickle_path  = '/content/drive/MyDrive/DCNN Classifier Models /AlexNet Classifier/AlexNet_Classifier_Model.pickle'\n",
        "resnet_pickle_path   = '/content/drive/MyDrive/DCNN Classifier Models /ResNet Classifier/ResNet_Model.pickle'\n",
        "googlenet_pickle_path  = '/content/drive/MyDrive/DCNN Classifier Models /AlexNet Classifier/AlexNet_Classifier_Model.pickle'\n",
        "efficientnet_pickle_path   = '/content/drive/MyDrive/DCNN Classifier Models /ResNet Classifier/ResNet_Model.pickle'"
      ],
      "execution_count": null,
      "outputs": []
    },
    {
      "cell_type": "markdown",
      "metadata": {
        "id": "umQvEJ8hNqxs"
      },
      "source": [
        "# **Saving the Accuracy and Loss To A Pickle File**"
      ]
    },
    {
      "cell_type": "code",
      "metadata": {
        "id": "aGvDV7DyW4Ls"
      },
      "source": [
        "'''\n",
        "The model cannot path cannot be directly used to retrieve the history thats\n",
        "why we are saving the respective model history to a pickle file \n",
        "\n",
        "return : None\n",
        "\n",
        "params : model_history and path of pickle file \n",
        "'''\n",
        "\n",
        "def save_file(pickle_dir,model_history):\n",
        "  with open(pickle_dir,'wb') as binary_pickle:\n",
        "    binary_pickle.write(pickle.dumps(model_history)) #dumping to pickle before writing to pickle file !\n",
        "    print(f'History Saved to {pickle_dir}')\n",
        "\n",
        "save_file(resnet_pickle,trained_model.history) #the path of the model history pickle and the current model history !"
      ],
      "execution_count": null,
      "outputs": []
    },
    {
      "cell_type": "markdown",
      "metadata": {
        "id": "AKqlawEa-J0E"
      },
      "source": [
        "# **Accuracy and Loss Graph !**"
      ]
    },
    {
      "cell_type": "code",
      "metadata": {
        "id": "_8dEYa0P-JQY",
        "colab": {
          "base_uri": "https://localhost:8080/",
          "height": 606
        },
        "outputId": "bdaa6786-ddc3-442a-cb21-f85c0a0082f6"
      },
      "source": [
        "'''\n",
        "The accuracy and the losses at each iteration/epoch is evaluated in the graph below\n",
        "matplotlib is used for plotting.\n",
        "\n",
        "return:None\n",
        "\n",
        "params:model history path\n",
        "'''\n",
        "def plot_metrics(acc_path):\n",
        "  with open(acc_path,'rb') as model_history: #opening the pickle file which contains the dictionary !\n",
        "    model=model_history.read()\n",
        "  model=pickle.loads(model)\n",
        "  plt.plot(model['accuracy'])\n",
        "  plt.plot(model['val_accuracy'])\n",
        "  plt.title('model_accuracy')\n",
        "  plt.ylabel('accuracy')\n",
        "  plt.xlabel('epoch')\n",
        "  plt.legend(['train','test'],loc='lower left')\n",
        "  plt.show()\n",
        "\n",
        "  plt.plot(model['loss'])\n",
        "  plt.plot(model['val_loss'])\n",
        "  plt.title('model_loss')\n",
        "  plt.ylabel('loss')\n",
        "  plt.xlabel('epoch')\n",
        "  plt.legend(['train','val loss'],loc='lower left')\n",
        "  plt.show()\n",
        "  train_acc = model['accuracy'][-1]*100\n",
        "  val_acc   = model['val_accuracy'][-1]*100\n",
        "  print(f'Training Accuracy : {round(train_acc,2)} %')\n",
        "  print(f'Validation Accuracy : {round(val_acc,2)} %')\n",
        "\n",
        "plot_metrics(vgg16_pickle)\n"
      ],
      "execution_count": null,
      "outputs": [
        {
          "output_type": "display_data",
          "data": {
            "image/png": "[encoded data removed]",
            "text/plain": [
              "<Figure size 432x288 with 1 Axes>"
            ]
          },
          "metadata": {
            "tags": [],
            "needs_background": "light"
          }
        },
        {
          "output_type": "display_data",
          "data": {
            "image/png": "[encoded data removed]",
            "text/plain": [
              "<Figure size 432x288 with 1 Axes>"
            ]
          },
          "metadata": {
            "tags": [],
            "needs_background": "light"
          }
        },
        {
          "output_type": "stream",
          "text": [
            "Training Accuracy : 96.64 %\n",
            "Validation Accuracy : 90.91 %\n"
          ],
          "name": "stdout"
        }
      ]
    },
    {
      "cell_type": "markdown",
      "metadata": {
        "id": "bPMoOHtuXxV0"
      },
      "source": [
        "# **ROC Curve Graph and Model Analytics**"
      ]
    },
    {
      "cell_type": "code",
      "metadata": {
        "colab": {
          "base_uri": "https://localhost:8080/"
        },
        "id": "xV5hYKsAXxC4",
        "outputId": "b27809b4-f75b-41d3-9363-b3b26e5d2e83"
      },
      "source": [
        "blasts = testing_data_path+'/Blasts'\n",
        "normal = testing_data_path+'/Normal'\n",
        "test_blasts = [ os.path.join(blasts,i) for i in os.listdir(blasts)]\n",
        "test_normal = [ os.path.join(normal,i) for i in os.listdir(normal)]\n",
        "tests = test_blasts+test_normal\n",
        "print(f'{len(tests)} Test Images Found !')"
      ],
      "execution_count": null,
      "outputs": [
        {
          "output_type": "stream",
          "text": [
            "33 Test Images Found !\n"
          ],
          "name": "stdout"
        }
      ]
    },
    {
      "cell_type": "markdown",
      "metadata": {
        "id": "29RIUA9QhvRW"
      },
      "source": [
        "# **Getting The Prediction Values From The Models**"
      ]
    },
    {
      "cell_type": "code",
      "metadata": {
        "id": "6jaER7Xn5u0F"
      },
      "source": [
        "def get_preds(model,image_path):\n",
        "  size = (224,224)      #default set to 224 x 224 for simplicity !\n",
        "  if model == 'AlexNet':\n",
        "    model,size = alexnet_path,model_dict['AlexNet']\n",
        "  elif model == 'Binary':\n",
        "    model,size = model_path,model_dict['Binary']\n",
        "  elif model == 'ResNet':\n",
        "    model = resnet_path\n",
        "  else:\n",
        "    raise Exception('Invalid Model Arguments !')             #exception thrown for invalid path !\n",
        "\n",
        "  model = keras.models.load_model(model)                     #loading the model.h5 from the drive !\n",
        "  img   = image.load_img(image_path, target_size=size)       # loading the image in 300x300 diemensions(227x227x3 for AlexNet)\n",
        "  img   = image.img_to_array(img)\n",
        "  img   = np.expand_dims(img, axis=0)                        #expanding along one axis \n",
        "  result_vector = model.predict(img).round(1)\n",
        "  return result_vector[0]"
      ],
      "execution_count": null,
      "outputs": []
    },
    {
      "cell_type": "markdown",
      "metadata": {
        "id": "DX4eLxWFN4CD"
      },
      "source": [
        "# Obtaining the Prediced values and Actual Values"
      ]
    },
    {
      "cell_type": "code",
      "metadata": {
        "id": "_ikNBk-S6iFL"
      },
      "source": [
        "y_preds = [get_preds('ResNet',x) for x in tests]\n",
        "y_true = test_images_datagen.classes\n",
        "class_labels = list(test_images_datagen.class_indices.keys())"
      ],
      "execution_count": null,
      "outputs": []
    },
    {
      "cell_type": "markdown",
      "metadata": {
        "id": "rppXUZEYh0S9"
      },
      "source": [
        "# **Plotting The ROC Curve**"
      ]
    },
    {
      "cell_type": "code",
      "metadata": {
        "id": "ZeW8x2nk7X7c"
      },
      "source": [
        "def plot_roc(y_true,y_preds):\n",
        "  false_ptr, true_ptr, nn_thresholds_keras = roc_curve(y_true, y_preds)\n",
        "  plt.figure(1)\n",
        "  plt.plot([0, 1], [0, 1], 'k--')\n",
        "  plt.plot(false_ptr,true_ptr)\n",
        "  plt.xlabel('False positive rate')\n",
        "  plt.ylabel('True positive rate')\n",
        "  plt.title('ROC curve')\n",
        "  plt.legend(loc='best')\n",
        "  plt.legend(['','ROC'],loc='lower right')\n",
        "  plt.show()\n",
        "  auc_score=roc_auc_score(y_true,y_preds)\n",
        "  print(f'AUC Score : {round(auc_score,3)}')  "
      ],
      "execution_count": null,
      "outputs": []
    },
    {
      "cell_type": "code",
      "metadata": {
        "colab": {
          "base_uri": "https://localhost:8080/",
          "height": 329
        },
        "id": "JRefyJ3A5QNm",
        "outputId": "8c134381-dc9d-42d5-b992-656ca0a013ad"
      },
      "source": [
        "plot_roc(y_true,y_preds)"
      ],
      "execution_count": null,
      "outputs": [
        {
          "output_type": "stream",
          "text": [
            "No handles with labels found to put in legend.\n"
          ],
          "name": "stderr"
        },
        {
          "output_type": "display_data",
          "data": {
            "image/png": "[encoded data removed]",
            "text/plain": [
              "<Figure size 432x288 with 1 Axes>"
            ]
          },
          "metadata": {
            "tags": []
          }
        },
        {
          "output_type": "stream",
          "text": [
            "AUC Score : 0.824\n"
          ],
          "name": "stdout"
        }
      ]
    },
    {
      "cell_type": "markdown",
      "metadata": {
        "id": "SsPLPfYqXlJ1"
      },
      "source": [
        "#**Testing for Cancer vs Normal**"
      ]
    },
    {
      "cell_type": "code",
      "metadata": {
        "id": "r9hAShN3yULC",
        "colab": {
          "base_uri": "https://localhost:8080/"
        },
        "outputId": "c0542929-ccf0-4336-9a71-f9eae5aea412"
      },
      "source": [
        "'''\n",
        "The final module of the system which basically predicts whether given cell is a blast or normal cell,\n",
        "based on the image and the prediction model file ! First of all, the model decides which model to call based\n",
        "on the falg you give, then the size is set to 300x300,227x277 respectively for Binary and AlexNet and the\n",
        "default size is 224x244.\n",
        "\n",
        "return: Blast or Not \n",
        " \n",
        "params: path to the model and the path to the image !\n",
        "'''\n",
        "\n",
        "def check_for_cancer(model,image_path):                 \n",
        "  result_vector = get_preds(model,image_path)                   \n",
        "  #print(result_vector)\n",
        "  return \"Cancerous\" if result_vector[0] <0.5 else \"Normal\"\n",
        "\n",
        "\n",
        "model  = 'VGG 16'\n",
        "print(f'Prediction Based on the {model} Classifier !')\n",
        "print(check_for_cancer(model,'/content/drive/MyDrive/Architecture Datasets/Testing/Blasts/Im006_1.jpg'))\n",
        "print(check_for_cancer(model,'/content/drive/MyDrive/Architecture Datasets/Testing/Normal/Im066_0.jpg'))"
      ],
      "execution_count": null,
      "outputs": [
        {
          "output_type": "stream",
          "text": [
            "Prediction Based on the VGG 16 Classifier !\n",
            "Cancerous\n",
            "Normal\n"
          ],
          "name": "stdout"
        }
      ]
    },
    {
      "cell_type": "markdown",
      "metadata": {
        "id": "caCnVM8FOBh7"
      },
      "source": [
        "# Path to store the Test Accuracy"
      ]
    },
    {
      "cell_type": "code",
      "metadata": {
        "id": "TitqEKz9nhWV"
      },
      "source": [
        "bin_test    = '/content/drive/MyDrive/Binary Classifier Models /Binary Classifier Model 0/binary_acc.pickle'\n",
        "alexnet_test= '/content/drive/MyDrive/Binary Classifier Models /AlexNet Classifier/alexnet_acc.pickle'\n",
        "vgg16_test  = '/content/drive/MyDrive/Binary Classifier Models /VGG 16/vgg16_acc.pickle'\n",
        "vgg19_test  = '/content/drive/MyDrive/Binary Classifier Models /VGG 19/vgg19v1_acc.pickle'\n",
        "resnet_test = '/content/drive/MyDrive/Binary Classifier Models /ResNet/ResNet_acc.pickle'"
      ],
      "execution_count": null,
      "outputs": []
    },
    {
      "cell_type": "markdown",
      "metadata": {
        "id": "kgto-0NzLjgb"
      },
      "source": [
        "# **Save Testing Accuracy To Pickle File**"
      ]
    },
    {
      "cell_type": "code",
      "metadata": {
        "id": "QoLOpSkUzKd0"
      },
      "source": [
        "'''\n",
        "The optional block of code only run if the accuracy is to be calculated !\n",
        "\n",
        "return: None\n",
        "\n",
        "params: model_path, test_generator, pickle_file path\n",
        "\n",
        "'''\n",
        "\n",
        "def get_accuracy(model_path:str,test_datagen,pickle_file:str)->None:\n",
        "  model = keras.models.load_model(model_path)\n",
        "  loss,accuracy = model.evaluate(test_datagen,batch_size = 128)\n",
        "  with open(pickle_file,'wb') as binary_pickle:\n",
        "    binary_pickle.write(pickle.dumps((loss,accuracy))) #dumping to pickle before writing to pickle file !\n",
        "    print(f'Accuracy Saved to {pickle_file}')\n",
        "\n",
        "get_accuracy(resnet_path,test_images_datagen,resnet_test)"
      ],
      "execution_count": null,
      "outputs": []
    },
    {
      "cell_type": "markdown",
      "metadata": {
        "id": "ggbfLA4e0n9k"
      },
      "source": [
        "# **Retrieve Accuracy From Pickle File**"
      ]
    },
    {
      "cell_type": "code",
      "metadata": {
        "id": "dX0-qeet_NAe"
      },
      "source": [
        "'''\n",
        "The model accuracy is originally stored in the drive folder for the sake of simplicity, we refer the \n",
        "pickle file path and fetch accuarcy info of the respective model and print their accuracy\n",
        "\n",
        "return:None\n",
        "\n",
        "params:accuracy_path\n",
        "'''\n",
        "def show_accuracy(model:str,acc_path:str)->None:\n",
        "  with open(acc_path,'rb') as pickle_file:\n",
        "    bin = pickle.loads(pickle_file.read()) \n",
        "    acc = round(bin[1]*100,3)\n",
        "    print(f'Accuracy for {model}  : {acc}%')"
      ],
      "execution_count": null,
      "outputs": []
    },
    {
      "cell_type": "code",
      "metadata": {
        "colab": {
          "base_uri": "https://localhost:8080/"
        },
        "id": "8XQ9p6myJLso",
        "outputId": "fb3c2e8f-4ab0-46af-f4e8-fb526c93a757"
      },
      "source": [
        "show_accuracy('Custom',bin_test)\n",
        "show_accuracy('AlexNet',alexnet_test)\n",
        "show_accuracy('ResNet50',resnet_test)"
      ],
      "execution_count": null,
      "outputs": [
        {
          "output_type": "stream",
          "text": [
            "Accuracy for Custom  : 93.939%\n",
            "Accuracy for AlexNet  : 90.909%\n",
            "Accuracy for ResNet50  : 93.939%\n",
            "Accuracy for VGG 19  : 96.97%\n",
            "Accuracy for VGG 16  : 93.939%\n"
          ],
          "name": "stdout"
        }
      ]
    }
  ]
}