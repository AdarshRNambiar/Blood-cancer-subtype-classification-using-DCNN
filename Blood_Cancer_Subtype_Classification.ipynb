{
  "nbformat": 4,
  "nbformat_minor": 0,
  "metadata": {
    "colab": {
      "provenance": [],
      "authorship_tag": "ABX9TyOf/dBqsdowKz//9Sb7JDKu",
      "include_colab_link": true
    },
    "kernelspec": {
      "name": "python3",
      "display_name": "Python 3"
    },
    "language_info": {
      "name": "python"
    }
  },
  "cells": [
    {
      "cell_type": "markdown",
      "metadata": {
        "id": "view-in-github",
        "colab_type": "text"
      },
      "source": [
        "<a href=\"https://colab.research.google.com/github/Anonymous1846/Blood-cancer-subtype-classification-using-DCNN/blob/master/Blood_Cancer_Subtype_Classification.ipynb\" target=\"_parent\"><img src=\"https://colab.research.google.com/assets/colab-badge.svg\" alt=\"Open In Colab\"/></a>"
      ]
    },
    {
      "cell_type": "markdown",
      "source": [
        "# **Importing the required dependencies !**"
      ],
      "metadata": {
        "id": "c2dsghToLCk5"
      }
    },
    {
      "cell_type": "code",
      "execution_count": null,
      "metadata": {
        "colab": {
          "base_uri": "https://localhost:8080/"
        },
        "id": "ohwQKJvIK45n",
        "outputId": "50c80936-923b-4e56-d257-c73a7f2465f3"
      },
      "outputs": [
        {
          "output_type": "stream",
          "name": "stdout",
          "text": [
            "<module 'tensorflow' from '/usr/local/lib/python3.7/dist-packages/tensorflow/__init__.py'>\n"
          ]
        }
      ],
      "source": [
        "'''\n",
        "  The Keras libraray provides APIs for layering and image data augmentation !\n",
        "'''\n",
        "from keras.layers import MaxPooling2D,Conv2D,Dropout,Dense,Flatten,BatchNormalization,MaxPool2D,AveragePooling2D \n",
        "from keras.applications.imagenet_utils import decode_predictions  \n",
        "from keras.callbacks import ModelCheckpoint,EarlyStopping \n",
        "from keras.preprocessing.image import ImageDataGenerator \n",
        "from keras.models import Sequential\n",
        "from tensorflow.keras.optimizers import RMSprop,Adam    \n",
        "from sklearn.metrics import classification_report    \n",
        "from keras.applications.resnet50 import ResNet50\n",
        "from keras.applications.vgg16 import VGG16\n",
        "from keras.applications.vgg19 import VGG19                            \n",
        "from keras.preprocessing import image\n",
        "from sklearn.metrics import confusion_matrix                           \n",
        "from sklearn.metrics import roc_auc_score    \n",
        "from sklearn.metrics import roc_curve    \n",
        "from sklearn.metrics import auc \n",
        "import matplotlib.pyplot as plt                                                   \n",
        "import tensorflow as tf\n",
        "from cv2 import imread\n",
        "import numpy as np\n",
        "import pickle                                                                     \n",
        "import keras\n",
        "import os "
      ]
    },
    {
      "cell_type": "markdown",
      "source": [
        "# **Loading the dataset from the google drive**"
      ],
      "metadata": {
        "id": "m7L7ubVmajAY"
      }
    },
    {
      "cell_type": "code",
      "source": [
        "'''\n",
        "This is an optional block of code which can be executed if the \n",
        "google drive needs to be mounted on different account\n",
        "'''\n",
        "\n",
        "from google.colab import drive\n",
        "drive.mount('/content/drive',force_remount=False)"
      ],
      "metadata": {
        "id": "mkSsxeY6ah8y"
      },
      "execution_count": null,
      "outputs": []
    }
  ]
}