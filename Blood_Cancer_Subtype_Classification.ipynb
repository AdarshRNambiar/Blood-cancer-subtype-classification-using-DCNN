{
  "nbformat": 4,
  "nbformat_minor": 0,
  "metadata": {
    "colab": {
      "provenance": [],
      "authorship_tag": "ABX9TyNcm7ZCkvXsG0nrWM64JneB",
      "include_colab_link": true
    },
    "kernelspec": {
      "name": "python3",
      "display_name": "Python 3"
    },
    "language_info": {
      "name": "python"
    }
  },
  "cells": [
    {
      "cell_type": "markdown",
      "metadata": {
        "id": "view-in-github",
        "colab_type": "text"
      },
      "source": [
        "<a href=\"https://colab.research.google.com/github/Anonymous1846/Blood-cancer-subtype-classification-using-DCNN/blob/master/Blood_Cancer_Subtype_Classification.ipynb\" target=\"_parent\"><img src=\"https://colab.research.google.com/assets/colab-badge.svg\" alt=\"Open In Colab\"/></a>"
      ]
    },
    {
      "cell_type": "markdown",
      "source": [
        "# **Importing the required dependencies !**"
      ],
      "metadata": {
        "id": "c2dsghToLCk5"
      }
    },
    {
      "cell_type": "code",
      "execution_count": 3,
      "metadata": {
        "id": "ohwQKJvIK45n",
        "outputId": "b28e16ba-c6a6-465a-a296-61cd083eb79c",
        "colab": {
          "base_uri": "https://localhost:8080/"
        }
      },
      "outputs": [
        {
          "output_type": "stream",
          "name": "stdout",
          "text": [
            "2.9.0\n"
          ]
        }
      ],
      "source": [
        "'''\n",
        "Importing all the necessary dependencies for the Multiclass Classification model !\n",
        "In the end we have verified the keras installtion, by printing out the keras version.\n",
        "\n",
        "keras/tensorflow - for developing and training the DL(CNN) model !\n",
        "os,random - for selection of the images from the directory !\n",
        "Each Model is stored in its respective directory along with its history file !\n",
        "\n",
        "Problem Statement: To classifiy cancer cells whether it is CML,ALL,AML, or CLL from the input image, using Convolutional Nueral Network models !\n",
        "\n",
        "'''\n",
        "from keras.layers import MaxPooling2D,Conv2D,Dropout,Dense,Flatten,BatchNormalization,MaxPool2D,AveragePooling2D #layers\n",
        "from keras.applications.imagenet_utils import decode_predictions  \n",
        "from keras.callbacks import ModelCheckpoint,EarlyStopping \n",
        "from keras.preprocessing.image import ImageDataGenerator \n",
        "from keras.applications.resnet import ResNet50                        \n",
        "from keras.preprocessing import image\n",
        "from keras.models import Sequential       \n",
        "from sklearn.metrics import roc_auc_score    \n",
        "from sklearn.metrics import roc_curve    \n",
        "from sklearn.metrics import auc \n",
        "from sklearn.metrics import confusion_matrix \n",
        "from sklearn.metrics import classification_report    \n",
        "from tensorflow.keras.optimizers import RMSprop,Adam                                                             \n",
        "import tensorflow as tf\n",
        "from cv2 import imread\n",
        "import matplotlib.pyplot as plt    \n",
        "import numpy as np\n",
        "import pickle                                                                    \n",
        "import keras\n",
        "import os \n",
        "\n",
        "# reading the image via  a path \n",
        "#causes an error if the keras installtion didn't went well !\n",
        "print(keras.__version__)"
      ]
    },
    {
      "cell_type": "markdown",
      "source": [
        "# **Loading the dataset from the google drive**"
      ],
      "metadata": {
        "id": "m7L7ubVmajAY"
      }
    },
    {
      "cell_type": "code",
      "source": [
        "'''\n",
        "This is an optional block of code which can be executed if the \n",
        "google drive needs to be mounted on different account\n",
        "'''\n",
        "\n",
        "from google.colab import drive\n",
        "drive.mount('/content/drive',force_remount=False)"
      ],
      "metadata": {
        "id": "mkSsxeY6ah8y"
      },
      "execution_count": null,
      "outputs": []
    },
    {
      "cell_type": "markdown",
      "source": [
        "# **Image Preprocessing for Test classifiers**"
      ],
      "metadata": {
        "id": "zOkw_0cyXRKR"
      }
    },
    {
      "cell_type": "code",
      "source": [
        "training_images_preprocessed = ImageDataGenerator(rescale=1./255,\n",
        "                                                  rotation_range=40,\n",
        "                                                  width_shift_range=0.2,\n",
        "                                                  height_shift_range=0.2,\n",
        "                                                  shear_range=0.2,\n",
        "                                                  zoom_range=0.2,\n",
        "                                                  horizontal_flip=True,\n",
        "                                                  vertical_flip=True,\n",
        "                                                  fill_mode='nearest')\n",
        "\n",
        "validate_images_preprocessed = ImageDataGenerator(rescale=1./255)"
      ],
      "metadata": {
        "id": "vJfeAorNXPOP"
      },
      "execution_count": null,
      "outputs": []
    },
    {
      "cell_type": "markdown",
      "source": [
        "# **Custom Test CNN Model**"
      ],
      "metadata": {
        "id": "rG4OpSmYbfJ3"
      }
    },
    {
      "cell_type": "code",
      "source": [
        "'''\n",
        "The test CNN model to check whether the given cell is\n",
        "benign/malignant, if cancerous then check\n",
        "the subtype of the cancer cell !\n",
        "'''\n",
        "test_cnn_model_0=Sequential([\n",
        "                                    Conv2D(16, (3,3), activation='relu', input_shape=(300, 300, 3)), # relu function is used to negate the negative values from the models, replace them with zeros !\n",
        "                                    MaxPooling2D(2, 2),\n",
        "                                    Conv2D(32, (3,3), activation='relu'),# The second convolution\n",
        "                                    MaxPooling2D(2,2),                                    \n",
        "                                    Conv2D(64, (3,3), activation='relu'),# The third convolution\n",
        "                                    MaxPooling2D(2,2),                                   \n",
        "                                    Conv2D(64, (3,3), activation='relu'), # The fourth convolution\n",
        "                                    MaxPooling2D(2,2),                                   \n",
        "                                    Conv2D(64, (3,3), activation='relu'), # The fifth convolution\n",
        "                                    MaxPooling2D(2,2),                                   \n",
        "                                    Flatten(),                            # Flatten the  results to feed into a DNN                                    \n",
        "                                    Dense(512, activation='relu'),        # 512 neuron hidden layer\n",
        "                                    # Only 1 output neuron. It will contain a value from 0-1 where 0 for 1 class ('normal') and 0 for the other 'cancer'\n",
        "                                    Dense(5, activation='softmax') # the output will be the range of -1 and 1(graph will be S shaped !)\n",
        "                                        ])\n",
        "\n",
        "test_cnn_model_0.summary()"
      ],
      "metadata": {
        "id": "ltfYZVFEbeJM",
        "outputId": "bf772953-9ee2-4e2f-b00b-59ea645b58c6",
        "colab": {
          "base_uri": "https://localhost:8080/"
        }
      },
      "execution_count": 7,
      "outputs": [
        {
          "output_type": "stream",
          "name": "stdout",
          "text": [
            "Model: \"sequential_3\"\n",
            "_________________________________________________________________\n",
            " Layer (type)                Output Shape              Param #   \n",
            "=================================================================\n",
            " conv2d_10 (Conv2D)          (None, 298, 298, 16)      448       \n",
            "                                                                 \n",
            " max_pooling2d_8 (MaxPooling  (None, 149, 149, 16)     0         \n",
            " 2D)                                                             \n",
            "                                                                 \n",
            " conv2d_11 (Conv2D)          (None, 147, 147, 32)      4640      \n",
            "                                                                 \n",
            " max_pooling2d_9 (MaxPooling  (None, 73, 73, 32)       0         \n",
            " 2D)                                                             \n",
            "                                                                 \n",
            " conv2d_12 (Conv2D)          (None, 71, 71, 64)        18496     \n",
            "                                                                 \n",
            " max_pooling2d_10 (MaxPoolin  (None, 35, 35, 64)       0         \n",
            " g2D)                                                            \n",
            "                                                                 \n",
            " conv2d_13 (Conv2D)          (None, 33, 33, 64)        36928     \n",
            "                                                                 \n",
            " max_pooling2d_11 (MaxPoolin  (None, 16, 16, 64)       0         \n",
            " g2D)                                                            \n",
            "                                                                 \n",
            " conv2d_14 (Conv2D)          (None, 14, 14, 64)        36928     \n",
            "                                                                 \n",
            " max_pooling2d_12 (MaxPoolin  (None, 7, 7, 64)         0         \n",
            " g2D)                                                            \n",
            "                                                                 \n",
            " flatten_3 (Flatten)         (None, 3136)              0         \n",
            "                                                                 \n",
            " dense_7 (Dense)             (None, 512)               1606144   \n",
            "                                                                 \n",
            " dense_8 (Dense)             (None, 5)                 2565      \n",
            "                                                                 \n",
            "=================================================================\n",
            "Total params: 1,706,149\n",
            "Trainable params: 1,706,149\n",
            "Non-trainable params: 0\n",
            "_________________________________________________________________\n"
          ]
        }
      ]
    },
    {
      "cell_type": "markdown",
      "source": [
        "# **Model based on AlexNet**"
      ],
      "metadata": {
        "id": "kKXyT668WtmT"
      }
    },
    {
      "cell_type": "code",
      "source": [
        "'''\n",
        "Implementation of the AlexNet architecture, which is an common architecture of the CNN model\n",
        "The AlexNet Alrchitecture has been modified since, the original one is capable of classifiying\n",
        "upto 1000 tensors, and requires more computational power !\n",
        "'''\n",
        "alexnet_model =Sequential([\n",
        "                    Conv2D(96, (11, 11), strides=(4,4), activation='relu', input_shape=(227, 227, 3)),\n",
        "                    BatchNormalization(),\n",
        "                    MaxPooling2D((3, 3),strides=(2,2)),\n",
        "                    Conv2D(256, (5, 5),padding='same', activation='relu'),                    \n",
        "                    MaxPooling2D((3, 3),strides=(2, 2)),\n",
        "                    Conv2D(384, (3, 3), padding='same',activation='relu'),\n",
        "                    Conv2D(384, (3, 3), padding='same',activation='relu'),\n",
        "                    Conv2D(256, (3, 3), padding='same',activation='relu'),\n",
        "                    MaxPooling2D((3, 3),strides=(2, 2)),\n",
        "                    Flatten(),\n",
        "                    Dense(4096, activation='relu'),# two sense layers with 4096 nuerons each                 \n",
        "                    Dropout(0.5),\n",
        "                    Dense(4096, activation='relu'),                \n",
        "                    Dropout(0.5),\n",
        "                    Dense(5, activation='softmax')# sigmoid used to binary other wise softmax will be used for probabilitic classification!\n",
        "                                                  #Padding calculation = input_size + 2 * padding_size-(filter_size-1)\n",
        "])\n",
        "print(alexnet_model.summary())"
      ],
      "metadata": {
        "id": "Ak1wrx1jWsft",
        "outputId": "8ad0d641-aa3d-48a7-959e-af24a67949da",
        "colab": {
          "base_uri": "https://localhost:8080/"
        }
      },
      "execution_count": 8,
      "outputs": [
        {
          "output_type": "stream",
          "name": "stdout",
          "text": [
            "Model: \"sequential_4\"\n",
            "_________________________________________________________________\n",
            " Layer (type)                Output Shape              Param #   \n",
            "=================================================================\n",
            " conv2d_15 (Conv2D)          (None, 55, 55, 96)        34944     \n",
            "                                                                 \n",
            " batch_normalization_1 (Batc  (None, 55, 55, 96)       384       \n",
            " hNormalization)                                                 \n",
            "                                                                 \n",
            " max_pooling2d_13 (MaxPoolin  (None, 27, 27, 96)       0         \n",
            " g2D)                                                            \n",
            "                                                                 \n",
            " conv2d_16 (Conv2D)          (None, 27, 27, 256)       614656    \n",
            "                                                                 \n",
            " max_pooling2d_14 (MaxPoolin  (None, 13, 13, 256)      0         \n",
            " g2D)                                                            \n",
            "                                                                 \n",
            " conv2d_17 (Conv2D)          (None, 13, 13, 384)       885120    \n",
            "                                                                 \n",
            " conv2d_18 (Conv2D)          (None, 13, 13, 384)       1327488   \n",
            "                                                                 \n",
            " conv2d_19 (Conv2D)          (None, 13, 13, 256)       884992    \n",
            "                                                                 \n",
            " max_pooling2d_15 (MaxPoolin  (None, 6, 6, 256)        0         \n",
            " g2D)                                                            \n",
            "                                                                 \n",
            " flatten_4 (Flatten)         (None, 9216)              0         \n",
            "                                                                 \n",
            " dense_9 (Dense)             (None, 4096)              37752832  \n",
            "                                                                 \n",
            " dropout_4 (Dropout)         (None, 4096)              0         \n",
            "                                                                 \n",
            " dense_10 (Dense)            (None, 4096)              16781312  \n",
            "                                                                 \n",
            " dropout_5 (Dropout)         (None, 4096)              0         \n",
            "                                                                 \n",
            " dense_11 (Dense)            (None, 5)                 20485     \n",
            "                                                                 \n",
            "=================================================================\n",
            "Total params: 58,302,213\n",
            "Trainable params: 58,302,021\n",
            "Non-trainable params: 192\n",
            "_________________________________________________________________\n",
            "None\n"
          ]
        }
      ]
    },
    {
      "cell_type": "code",
      "source": [
        "'''\n",
        "The transfer learning mechanism applied to ResNet 50, which is a Residual network\n",
        "Last layers is set to trainable , from 165 onwards !\n",
        "'''\n",
        "\n",
        "resnet = ResNet50(\n",
        "    weights=\"imagenet\", \n",
        "    include_top=False,\n",
        "    input_shape=(224,224,3)\n",
        ")\n",
        "\n",
        "for layer in resnet.layers[:165]:\n",
        "   layer.trainable = False\n",
        "for layer in resnet.layers[165:]:\n",
        "   layer.trainable = True\n",
        "\n",
        "resnet_model = Sequential(\n",
        "                          [resnet,                         \n",
        "                          Flatten(),\n",
        "                          Dropout(0.5),\n",
        "                          Dense(256,activation='relu'),\n",
        "                          Dropout(0.5),\n",
        "                          Dense(5,activation='softmax')\n",
        "                          ])\n",
        "print(resnet_model.summary())"
      ],
      "metadata": {
        "id": "DtdGx68BLCRU",
        "outputId": "b80b4b57-372a-4acd-f291-17d8832e4cca",
        "colab": {
          "base_uri": "https://localhost:8080/"
        }
      },
      "execution_count": 9,
      "outputs": [
        {
          "output_type": "stream",
          "name": "stdout",
          "text": [
            "Model: \"sequential_5\"\n",
            "_________________________________________________________________\n",
            " Layer (type)                Output Shape              Param #   \n",
            "=================================================================\n",
            " resnet50 (Functional)       (None, 7, 7, 2048)        23587712  \n",
            "                                                                 \n",
            " flatten_5 (Flatten)         (None, 100352)            0         \n",
            "                                                                 \n",
            " dropout_6 (Dropout)         (None, 100352)            0         \n",
            "                                                                 \n",
            " dense_12 (Dense)            (None, 256)               25690368  \n",
            "                                                                 \n",
            " dropout_7 (Dropout)         (None, 256)               0         \n",
            "                                                                 \n",
            " dense_13 (Dense)            (None, 5)                 1285      \n",
            "                                                                 \n",
            "=================================================================\n",
            "Total params: 49,279,365\n",
            "Trainable params: 30,157,317\n",
            "Non-trainable params: 19,122,048\n",
            "_________________________________________________________________\n",
            "None\n"
          ]
        }
      ]
    },
    {
      "cell_type": "code",
      "source": [
        "'''\n",
        "Compiling the model using the loss function binary crossentropy and RMSProp !\n",
        "\n",
        "return : None\n",
        "\n",
        "params : model object \n",
        "'''\n",
        "def compile_model(model):\n",
        "  model.compile(loss='binary_crossentropy',\n",
        "                optimizer=RMSprop(lr=1e-5), #optionally use the Adam with learning rate 0.001 - 1e-5\n",
        "                metrics=['accuracy'])\n"
      ],
      "metadata": {
        "id": "YYJtzxevLyM3"
      },
      "execution_count": 10,
      "outputs": []
    },
    {
      "cell_type": "code",
      "source": [
        "compile_model(resnet_model)"
      ],
      "metadata": {
        "id": "ntQ3chhtL125"
      },
      "execution_count": null,
      "outputs": []
    },
    {
      "cell_type": "code",
      "source": [
        "'''\n",
        "The below callback list is used to moniter the validation accuracy, and the save the best version of the\n",
        "CNN model. The paths has been specified for later use !\n",
        "\n",
        "The Classifier model and the history file are saved in the Binary Classifier Models directory, in the format:\n",
        "\n",
        "Model_Name_Directory\n",
        "                | \n",
        "                |\n",
        "                 ---- Model_File.h5\n",
        "                 ---- Model_History.pickle\n",
        "                 -----Model_Test_Acc.pickle\n",
        "'''\n",
        "\n",
        "model_path    = '/content/drive/MyDrive/Binary Classifier Models /Binary Classifier Model 0/Binary_Classifier_Model.h5'\n",
        "alexnet_path  = '/content/drive/MyDrive/Binary Classifier Models /AlexNet Classifier/AlexNet_Classifier.h5'\n",
        "vgg19_path    = '/content/drive/MyDrive/Binary Classifier Models /VGG 19/VGG_19v1.h5' \n",
        "vgg16_path    = '/content/drive/MyDrive/Binary Classifier Models /VGG 16/VGG_16.h5'\n",
        "resnet_path   = '/content/drive/MyDrive/Binary Classifier Models /ResNet/ResNet.h5'"
      ],
      "metadata": {
        "id": "eWD8c6FnL4Ph"
      },
      "execution_count": null,
      "outputs": []
    }
  ]
}